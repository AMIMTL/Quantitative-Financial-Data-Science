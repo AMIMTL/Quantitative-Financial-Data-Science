{
  "nbformat": 4,
  "nbformat_minor": 0,
  "metadata": {
    "colab": {
      "provenance": []
    },
    "kernelspec": {
      "name": "python3",
      "display_name": "Python 3"
    },
    "language_info": {
      "name": "python"
    }
  },
  "cells": [
    {
      "cell_type": "code",
      "execution_count": null,
      "metadata": {
        "id": "BeLQk6Y7uCKP"
      },
      "outputs": [],
      "source": []
    },
    {
      "cell_type": "markdown",
      "metadata": {
        "id": "nd_yBfLTn33p"
      },
      "source": [
        "# Coding Exercises (Part 1)"
      ]
    },
    {
      "cell_type": "markdown",
      "metadata": {
        "id": "az6t8iYTn33s"
      },
      "source": [
        "Now, you will have the opportunity to practice what you have learned. <br>\n",
        "__Follow the instructions__ and insert your code!"
      ]
    },
    {
      "cell_type": "markdown",
      "metadata": {
        "id": "sKQpGwkXn33t"
      },
      "source": [
        "The correct answer is provided below your coding cell. There you can check whether your code is correct."
      ]
    },
    {
      "cell_type": "markdown",
      "metadata": {
        "id": "iPq7843on33t"
      },
      "source": [
        "If you need some help or if you want to check your code, you can also have a look at the __solutions__."
      ]
    },
    {
      "cell_type": "markdown",
      "metadata": {
        "id": "5WmhfEz2n33u"
      },
      "source": [
        "### Have Fun!"
      ]
    },
    {
      "cell_type": "markdown",
      "metadata": {
        "id": "xKm8i8lRn33u"
      },
      "source": [
        "--------------------------------------------------------------------------------------------------------------"
      ]
    },
    {
      "cell_type": "markdown",
      "metadata": {
        "id": "zOUWsILPn33u"
      },
      "source": [
        "## Exercise 3: Integers, Floats, Lists and built-in functions"
      ]
    },
    {
      "cell_type": "markdown",
      "metadata": {
        "id": "cJ7KfzEkn33v"
      },
      "source": [
        "1. __Create and save objects__ of your choice with the following __data types__. Check the data type with the appropriate function!"
      ]
    },
    {
      "cell_type": "markdown",
      "metadata": {
        "id": "dK5iYtQYn33v"
      },
      "source": [
        "integer"
      ]
    },
    {
      "cell_type": "code",
      "execution_count": null,
      "metadata": {
        "id": "tXtMlz-sn33w"
      },
      "outputs": [],
      "source": [
        "a = 10"
      ]
    },
    {
      "cell_type": "markdown",
      "metadata": {
        "id": "ql58IAKWn33w"
      },
      "source": [
        "float"
      ]
    },
    {
      "cell_type": "code",
      "execution_count": null,
      "metadata": {
        "id": "jmxfEYMBn33x"
      },
      "outputs": [],
      "source": [
        "a_float = float(a)"
      ]
    },
    {
      "cell_type": "code",
      "execution_count": null,
      "metadata": {
        "colab": {
          "base_uri": "https://localhost:8080/"
        },
        "id": "KkDG3Ztgn33x",
        "outputId": "e4d5542b-8e36-4204-f06e-2b36319aaca6"
      },
      "outputs": [
        {
          "output_type": "execute_result",
          "data": {
            "text/plain": [
              "10.0"
            ]
          },
          "metadata": {},
          "execution_count": 3
        }
      ],
      "source": [
        "a_float"
      ]
    },
    {
      "cell_type": "markdown",
      "metadata": {
        "id": "8fbTxwahn33x"
      },
      "source": [
        "string"
      ]
    },
    {
      "cell_type": "code",
      "execution_count": null,
      "metadata": {
        "id": "z9copiCRn33x"
      },
      "outputs": [],
      "source": [
        "a_string = str(a)"
      ]
    },
    {
      "cell_type": "code",
      "execution_count": null,
      "metadata": {
        "colab": {
          "base_uri": "https://localhost:8080/",
          "height": 35
        },
        "id": "eTlYVF_Gn33x",
        "outputId": "7cd64d81-6420-42b2-b2f7-7d46e8bf9b71"
      },
      "outputs": [
        {
          "output_type": "execute_result",
          "data": {
            "text/plain": [
              "'10'"
            ],
            "application/vnd.google.colaboratory.intrinsic+json": {
              "type": "string"
            }
          },
          "metadata": {},
          "execution_count": 6
        }
      ],
      "source": [
        "a_string"
      ]
    },
    {
      "cell_type": "markdown",
      "metadata": {
        "id": "8uPO0oDIn33x"
      },
      "source": [
        "bool"
      ]
    },
    {
      "cell_type": "code",
      "execution_count": null,
      "metadata": {
        "colab": {
          "base_uri": "https://localhost:8080/"
        },
        "id": "cyXBAmFLn33x",
        "outputId": "0054346f-2b77-482c-f826-f12bddf924b5"
      },
      "outputs": [
        {
          "output_type": "execute_result",
          "data": {
            "text/plain": [
              "True"
            ]
          },
          "metadata": {},
          "execution_count": 9
        }
      ],
      "source": [
        "bool(1)"
      ]
    },
    {
      "cell_type": "code",
      "execution_count": null,
      "metadata": {
        "colab": {
          "base_uri": "https://localhost:8080/"
        },
        "id": "9KpKWwxGn33y",
        "outputId": "589bbbd2-aa81-4e7e-8b65-944235d85445"
      },
      "outputs": [
        {
          "output_type": "execute_result",
          "data": {
            "text/plain": [
              "False"
            ]
          },
          "metadata": {},
          "execution_count": 10
        }
      ],
      "source": [
        "bool(0)"
      ]
    },
    {
      "cell_type": "code",
      "execution_count": null,
      "metadata": {
        "colab": {
          "base_uri": "https://localhost:8080/"
        },
        "id": "ecJ2_aYfn33y",
        "outputId": "3c636079-58f8-4f4d-947b-6fbbcf6af5fa"
      },
      "outputs": [
        {
          "output_type": "execute_result",
          "data": {
            "text/plain": [
              "True"
            ]
          },
          "metadata": {},
          "execution_count": 11
        }
      ],
      "source": [
        "bool(125)"
      ]
    },
    {
      "cell_type": "code",
      "source": [
        "bool('string')"
      ],
      "metadata": {
        "colab": {
          "base_uri": "https://localhost:8080/"
        },
        "id": "97KWQRcYoYOa",
        "outputId": "2c0ff4ac-e8e6-494b-b8ff-63841871c5c4"
      },
      "execution_count": null,
      "outputs": [
        {
          "output_type": "execute_result",
          "data": {
            "text/plain": [
              "True"
            ]
          },
          "metadata": {},
          "execution_count": 12
        }
      ]
    },
    {
      "cell_type": "code",
      "source": [
        "bool(\"\")"
      ],
      "metadata": {
        "colab": {
          "base_uri": "https://localhost:8080/"
        },
        "id": "83EtCOj0oZza",
        "outputId": "bf6cbce8-ae61-4002-fcd0-c2601dbffc15"
      },
      "execution_count": null,
      "outputs": [
        {
          "output_type": "execute_result",
          "data": {
            "text/plain": [
              "False"
            ]
          },
          "metadata": {},
          "execution_count": 13
        }
      ]
    },
    {
      "cell_type": "code",
      "source": [
        "bool(\" \")"
      ],
      "metadata": {
        "colab": {
          "base_uri": "https://localhost:8080/"
        },
        "id": "xcdku5nXobP7",
        "outputId": "67080c64-bdb7-46cd-c1b8-394657496d63"
      },
      "execution_count": null,
      "outputs": [
        {
          "output_type": "execute_result",
          "data": {
            "text/plain": [
              "True"
            ]
          },
          "metadata": {},
          "execution_count": 14
        }
      ]
    },
    {
      "cell_type": "markdown",
      "metadata": {
        "id": "OG8KwZvSn33y"
      },
      "source": [
        "2. Determine the __sum__, the __number of elements__ and __maximum value__ in list l. Use __built-in functions__!"
      ]
    },
    {
      "cell_type": "code",
      "execution_count": null,
      "metadata": {
        "id": "MRh_pPsfn33y"
      },
      "outputs": [],
      "source": [
        "# run the cell\n",
        "l = [-300, 40, 140, -430, 85, 280, 0, -560, 340]"
      ]
    },
    {
      "cell_type": "code",
      "execution_count": null,
      "metadata": {
        "colab": {
          "base_uri": "https://localhost:8080/"
        },
        "id": "U71sZwP4n33z",
        "outputId": "4bd84c84-6676-442a-8e0f-de59b1aca0aa"
      },
      "outputs": [
        {
          "output_type": "execute_result",
          "data": {
            "text/plain": [
              "-405"
            ]
          },
          "metadata": {},
          "execution_count": 17
        }
      ],
      "source": [
        "#sum\n",
        "sum(l)"
      ]
    },
    {
      "cell_type": "markdown",
      "metadata": {
        "id": "GiAulzLPn33z"
      },
      "source": [
        "(result: -405)"
      ]
    },
    {
      "cell_type": "code",
      "execution_count": null,
      "metadata": {
        "colab": {
          "base_uri": "https://localhost:8080/"
        },
        "id": "yDRptYpkn33z",
        "outputId": "83da22e7-e455-45c0-b104-f41a090766e1"
      },
      "outputs": [
        {
          "output_type": "execute_result",
          "data": {
            "text/plain": [
              "9"
            ]
          },
          "metadata": {},
          "execution_count": 20
        }
      ],
      "source": [
        "#number of elements\n",
        "len(l)"
      ]
    },
    {
      "cell_type": "markdown",
      "metadata": {
        "id": "om-boA_zn33z"
      },
      "source": [
        "(result: 9)"
      ]
    },
    {
      "cell_type": "code",
      "execution_count": null,
      "metadata": {
        "colab": {
          "base_uri": "https://localhost:8080/"
        },
        "id": "pwp52oddn33z",
        "outputId": "82d4e6e2-7e9f-4117-87a3-aee078c6fd6a"
      },
      "outputs": [
        {
          "output_type": "execute_result",
          "data": {
            "text/plain": [
              "340"
            ]
          },
          "metadata": {},
          "execution_count": 21
        }
      ],
      "source": [
        "#maximum\n",
        "max(l)"
      ]
    },
    {
      "cell_type": "markdown",
      "metadata": {
        "id": "8OtVOPBZn330"
      },
      "source": [
        "(result: 340)"
      ]
    },
    {
      "cell_type": "markdown",
      "metadata": {
        "id": "4wlPyNLyn330"
      },
      "source": [
        "3. Determine the __number of elements__ and __the alphabetically first value__ in string s. Use __built-in functions__!"
      ]
    },
    {
      "cell_type": "code",
      "execution_count": null,
      "metadata": {
        "id": "Xidm7TYun330"
      },
      "outputs": [],
      "source": [
        "#run the cell\n",
        "s = \"myrmecophilous\""
      ]
    },
    {
      "cell_type": "code",
      "execution_count": null,
      "metadata": {
        "scrolled": true,
        "colab": {
          "base_uri": "https://localhost:8080/"
        },
        "id": "nf_NbAzVn330",
        "outputId": "ba01545f-5393-40cd-a4d0-fb42bc556422"
      },
      "outputs": [
        {
          "output_type": "execute_result",
          "data": {
            "text/plain": [
              "14"
            ]
          },
          "metadata": {},
          "execution_count": 24
        }
      ],
      "source": [
        "#number of elements\n",
        "len(s)"
      ]
    },
    {
      "cell_type": "markdown",
      "metadata": {
        "id": "P0p7B2ken330"
      },
      "source": [
        "(result: 14)"
      ]
    },
    {
      "cell_type": "code",
      "execution_count": null,
      "metadata": {
        "colab": {
          "base_uri": "https://localhost:8080/",
          "height": 35
        },
        "id": "mgf_eUkAn330",
        "outputId": "17123bea-3a0b-493b-d1fb-4007e386632b"
      },
      "outputs": [
        {
          "output_type": "execute_result",
          "data": {
            "text/plain": [
              "'c'"
            ],
            "application/vnd.google.colaboratory.intrinsic+json": {
              "type": "string"
            }
          },
          "metadata": {},
          "execution_count": 25
        }
      ],
      "source": [
        "#alphabetically first value\n",
        "min(s)"
      ]
    },
    {
      "cell_type": "markdown",
      "metadata": {
        "id": "TxKSDuGfn330"
      },
      "source": [
        "(result: \"c\")"
      ]
    },
    {
      "cell_type": "code",
      "execution_count": null,
      "metadata": {
        "colab": {
          "base_uri": "https://localhost:8080/",
          "height": 35
        },
        "id": "eb-1q1_fn330",
        "outputId": "d26554d3-1952-467e-cccc-88d06fc15876"
      },
      "outputs": [
        {
          "output_type": "execute_result",
          "data": {
            "text/plain": [
              "'y'"
            ],
            "application/vnd.google.colaboratory.intrinsic+json": {
              "type": "string"
            }
          },
          "metadata": {},
          "execution_count": 26
        }
      ],
      "source": [
        "max(s)"
      ]
    },
    {
      "cell_type": "markdown",
      "metadata": {
        "id": "wLq6O5ePn331"
      },
      "source": [
        "4. __Check__ whether the following equation is __True__ in Python: 0.2 + 0.2 + 0.2 = 0.6"
      ]
    },
    {
      "cell_type": "code",
      "execution_count": null,
      "metadata": {
        "colab": {
          "base_uri": "https://localhost:8080/"
        },
        "id": "2f0C_3WOn331",
        "outputId": "6ec6b8fa-4bc2-494e-a0c2-4e4388b0ead0"
      },
      "outputs": [
        {
          "output_type": "execute_result",
          "data": {
            "text/plain": [
              "False"
            ]
          },
          "metadata": {},
          "execution_count": 28
        }
      ],
      "source": [
        "0.2 +0.2 + 0.2 == 0.6"
      ]
    },
    {
      "cell_type": "code",
      "execution_count": null,
      "metadata": {
        "id": "PUmtZufSn335"
      },
      "outputs": [],
      "source": []
    },
    {
      "cell_type": "markdown",
      "metadata": {
        "id": "AXQxAHgPn336"
      },
      "source": [
        "5. Get the __first 20 decimals__ of 0.2 and 0.6 and explain the result of exercise 4."
      ]
    },
    {
      "cell_type": "code",
      "execution_count": null,
      "metadata": {
        "colab": {
          "base_uri": "https://localhost:8080/",
          "height": 35
        },
        "id": "7GFZ4-DZn336",
        "outputId": "0d30f602-bed3-49f3-b3c0-927cb6652970"
      },
      "outputs": [
        {
          "output_type": "execute_result",
          "data": {
            "text/plain": [
              "'0.20000000000000001110'"
            ],
            "application/vnd.google.colaboratory.intrinsic+json": {
              "type": "string"
            }
          },
          "metadata": {},
          "execution_count": 35
        }
      ],
      "source": [
        "format(0.2 , \"0.20f\")"
      ]
    },
    {
      "cell_type": "markdown",
      "metadata": {
        "id": "BfcUwWs4n336"
      },
      "source": [
        "(result: '0.20000000000000001110')"
      ]
    },
    {
      "cell_type": "code",
      "execution_count": null,
      "metadata": {
        "colab": {
          "base_uri": "https://localhost:8080/",
          "height": 35
        },
        "id": "felIrBHUn336",
        "outputId": "82ade33b-b0f9-4b21-ed5a-100afd4b36a5"
      },
      "outputs": [
        {
          "output_type": "execute_result",
          "data": {
            "text/plain": [
              "'0.59999999999999997780'"
            ],
            "application/vnd.google.colaboratory.intrinsic+json": {
              "type": "string"
            }
          },
          "metadata": {},
          "execution_count": 36
        }
      ],
      "source": [
        "format(0.6,\"0.20f\")"
      ]
    },
    {
      "cell_type": "markdown",
      "metadata": {
        "id": "FKITeKSvn336"
      },
      "source": [
        "(result: '0.59999999999999997780')"
      ]
    },
    {
      "cell_type": "markdown",
      "metadata": {
        "id": "CP65M2ynn336"
      },
      "source": [
        "6. __Round__ 1.56456 to __2 decimals__! Check the __first 20 decimals__ of the rounded float. Does rounding guarantee exact numbers in Python?"
      ]
    },
    {
      "cell_type": "code",
      "execution_count": null,
      "metadata": {
        "scrolled": true,
        "colab": {
          "base_uri": "https://localhost:8080/"
        },
        "id": "dd9p7CoNn336",
        "outputId": "0cd66845-5a04-4a01-d94a-334e4e7aeb40"
      },
      "outputs": [
        {
          "output_type": "execute_result",
          "data": {
            "text/plain": [
              "1.56"
            ]
          },
          "metadata": {},
          "execution_count": 37
        }
      ],
      "source": [
        "round(1.56456,2)"
      ]
    },
    {
      "cell_type": "markdown",
      "metadata": {
        "id": "A8q847-Yn337"
      },
      "source": [
        "(result: 1.56)"
      ]
    },
    {
      "cell_type": "code",
      "execution_count": null,
      "metadata": {
        "scrolled": true,
        "colab": {
          "base_uri": "https://localhost:8080/",
          "height": 35
        },
        "id": "FJyaJKonn337",
        "outputId": "a17b6f87-1880-46e0-8532-7cf113c0e079"
      },
      "outputs": [
        {
          "output_type": "execute_result",
          "data": {
            "text/plain": [
              "'1.56000000000000005329'"
            ],
            "application/vnd.google.colaboratory.intrinsic+json": {
              "type": "string"
            }
          },
          "metadata": {},
          "execution_count": 38
        }
      ],
      "source": [
        "format(round(1.56456,2),\"0.20f\")"
      ]
    },
    {
      "cell_type": "markdown",
      "metadata": {
        "id": "KIy3CrTZn337"
      },
      "source": [
        "(result: '1.56000000000000005329')"
      ]
    },
    {
      "cell_type": "markdown",
      "metadata": {
        "id": "5mUcxf8Pn337"
      },
      "source": [
        "7. __Round__ 2,320,576 to the next __multiple of 1,000__!"
      ]
    },
    {
      "cell_type": "code",
      "execution_count": null,
      "metadata": {
        "colab": {
          "base_uri": "https://localhost:8080/"
        },
        "id": "eyUIWYxan337",
        "outputId": "3ed2ca44-ae30-4178-84c2-fe0d9dfd880f"
      },
      "outputs": [
        {
          "output_type": "execute_result",
          "data": {
            "text/plain": [
              "2321000"
            ]
          },
          "metadata": {},
          "execution_count": 50
        }
      ],
      "source": [
        "round(2320576,-3) #"
      ]
    },
    {
      "cell_type": "markdown",
      "metadata": {
        "id": "xXho2Yyzn337"
      },
      "source": [
        "(result: 2321000)"
      ]
    },
    {
      "cell_type": "markdown",
      "metadata": {
        "id": "QhNGarZpn337"
      },
      "source": [
        "We have the list cf with cashflows starting today until year 6:"
      ]
    },
    {
      "cell_type": "code",
      "execution_count": null,
      "metadata": {
        "colab": {
          "base_uri": "https://localhost:8080/"
        },
        "id": "0rRT7In2n337",
        "outputId": "0ee8395e-72c2-403d-a065-81b1f15d7cd7"
      },
      "outputs": [
        {
          "output_type": "execute_result",
          "data": {
            "text/plain": [
              "[-2000, 200, 300, 500, 750, 1000, 1500]"
            ]
          },
          "metadata": {},
          "execution_count": 51
        }
      ],
      "source": [
        "# run the cell\n",
        "cf = [-2000, 200, 300, 500, 750, 1000, 1500]\n",
        "cf"
      ]
    },
    {
      "cell_type": "markdown",
      "metadata": {
        "id": "q3kf20OHn338"
      },
      "source": [
        "8. Create the following __slices__ of cf:"
      ]
    },
    {
      "cell_type": "markdown",
      "metadata": {
        "id": "_hDQ6i1Nn338"
      },
      "source": [
        "first two elements"
      ]
    },
    {
      "cell_type": "code",
      "execution_count": null,
      "metadata": {
        "colab": {
          "base_uri": "https://localhost:8080/"
        },
        "id": "9U9XRDEnn338",
        "outputId": "bcaa6a0b-a1a5-4e5d-e4b1-2db0de82a048"
      },
      "outputs": [
        {
          "output_type": "execute_result",
          "data": {
            "text/plain": [
              "[-2000, 200]"
            ]
          },
          "metadata": {},
          "execution_count": 52
        }
      ],
      "source": [
        "cf[:2]"
      ]
    },
    {
      "cell_type": "markdown",
      "metadata": {
        "id": "5kAnydT8n338"
      },
      "source": [
        "the elements 300, 500 and 750"
      ]
    },
    {
      "cell_type": "code",
      "execution_count": null,
      "metadata": {
        "colab": {
          "base_uri": "https://localhost:8080/"
        },
        "id": "a446l-zhn338",
        "outputId": "531f7ce9-00c8-4529-dc14-17f43f1bafad"
      },
      "outputs": [
        {
          "output_type": "execute_result",
          "data": {
            "text/plain": [
              "[300, 500, 750]"
            ]
          },
          "metadata": {},
          "execution_count": 55
        }
      ],
      "source": [
        "cf[cf.index(300):cf.index(750)+1]"
      ]
    },
    {
      "cell_type": "markdown",
      "metadata": {
        "id": "hpXIVBg9n338"
      },
      "source": [
        "the last three elements"
      ]
    },
    {
      "cell_type": "code",
      "execution_count": null,
      "metadata": {
        "colab": {
          "base_uri": "https://localhost:8080/"
        },
        "id": "DmZ8a-mCn338",
        "outputId": "c581a254-731c-4438-911f-b2421515a139"
      },
      "outputs": [
        {
          "output_type": "execute_result",
          "data": {
            "text/plain": [
              "[750, 1000, 1500]"
            ]
          },
          "metadata": {},
          "execution_count": 56
        }
      ],
      "source": [
        "cf[-3:]"
      ]
    },
    {
      "cell_type": "markdown",
      "metadata": {
        "id": "j_S_X0KZn338"
      },
      "source": [
        "all elements, except the last element"
      ]
    },
    {
      "cell_type": "code",
      "execution_count": null,
      "metadata": {
        "colab": {
          "base_uri": "https://localhost:8080/"
        },
        "id": "Aw4uOQAVn338",
        "outputId": "d2e980c3-7bb0-4dd5-c62c-10b340b4902b"
      },
      "outputs": [
        {
          "output_type": "execute_result",
          "data": {
            "text/plain": [
              "[-2000, 200, 300, 500, 750, 1000]"
            ]
          },
          "metadata": {},
          "execution_count": 58
        }
      ],
      "source": [
        "cf[:-1]"
      ]
    },
    {
      "cell_type": "markdown",
      "metadata": {
        "id": "eyHDG8A9n338"
      },
      "source": [
        "every second element (starting from first element)"
      ]
    },
    {
      "cell_type": "code",
      "execution_count": null,
      "metadata": {
        "colab": {
          "base_uri": "https://localhost:8080/"
        },
        "id": "sxJPB76jn338",
        "outputId": "283973b2-d8ed-45ec-be4f-00e4485dfb58"
      },
      "outputs": [
        {
          "output_type": "execute_result",
          "data": {
            "text/plain": [
              "[-2000, 300, 750, 1500]"
            ]
          },
          "metadata": {},
          "execution_count": 59
        }
      ],
      "source": [
        "cf[::2]"
      ]
    },
    {
      "cell_type": "markdown",
      "metadata": {
        "id": "dzWMphiJn338"
      },
      "source": [
        "9. __Add__ the cashflow 1200 for year 7 to list cf. __Change__ cf in memory!"
      ]
    },
    {
      "cell_type": "code",
      "execution_count": null,
      "metadata": {
        "id": "NqrhEfBCn339"
      },
      "outputs": [],
      "source": [
        "cf.append(1200)"
      ]
    },
    {
      "cell_type": "code",
      "execution_count": null,
      "metadata": {
        "colab": {
          "base_uri": "https://localhost:8080/"
        },
        "id": "_nckInm6n339",
        "outputId": "399f5959-6902-4d09-bb1c-d52e3475ac33"
      },
      "outputs": [
        {
          "output_type": "execute_result",
          "data": {
            "text/plain": [
              "[-2000, 200, 300, 500, 750, 1000, 1500, 1200]"
            ]
          },
          "metadata": {},
          "execution_count": 61
        }
      ],
      "source": [
        "cf"
      ]
    },
    {
      "cell_type": "markdown",
      "metadata": {
        "id": "RVCKuEQNn339"
      },
      "source": [
        "10. __Change__ the cashflow in t2 (300) to 400. __Change__ cf in memory!"
      ]
    },
    {
      "cell_type": "code",
      "execution_count": null,
      "metadata": {
        "id": "9rMz_AoVn339"
      },
      "outputs": [],
      "source": [
        "cf[cf.index(300)] = 400"
      ]
    },
    {
      "cell_type": "code",
      "execution_count": null,
      "metadata": {
        "colab": {
          "base_uri": "https://localhost:8080/"
        },
        "id": "oNwwLitOn339",
        "outputId": "96e884ad-95fd-4620-e783-0e0f73e978c3"
      },
      "outputs": [
        {
          "output_type": "execute_result",
          "data": {
            "text/plain": [
              "[-2000, 200, 400, 500, 750, 1000, 1500, 1200]"
            ]
          },
          "metadata": {},
          "execution_count": 63
        }
      ],
      "source": [
        "cf"
      ]
    },
    {
      "cell_type": "markdown",
      "metadata": {
        "id": "oxvF4Udun339"
      },
      "source": [
        "11. __Remove__ the last three years of cf (with slicing and variable reassignment )"
      ]
    },
    {
      "cell_type": "code",
      "execution_count": null,
      "metadata": {
        "id": "WwBYXfJOn339"
      },
      "outputs": [],
      "source": [
        "cf = cf[:-3]"
      ]
    },
    {
      "cell_type": "code",
      "source": [
        "cf"
      ],
      "metadata": {
        "colab": {
          "base_uri": "https://localhost:8080/"
        },
        "id": "ydjj6i8rsvuJ",
        "outputId": "0e98bd6f-a97b-492b-a7dd-9d6157507b12"
      },
      "execution_count": null,
      "outputs": [
        {
          "output_type": "execute_result",
          "data": {
            "text/plain": [
              "[-2000, 200, 400, 500, 750]"
            ]
          },
          "metadata": {},
          "execution_count": 69
        }
      ]
    },
    {
      "cell_type": "markdown",
      "metadata": {
        "id": "8dTwn4FUn339"
      },
      "source": [
        "12. __Add 20__ to each and every element of cf. Create the new list __cf_new__!"
      ]
    },
    {
      "cell_type": "code",
      "execution_count": null,
      "metadata": {
        "colab": {
          "base_uri": "https://localhost:8080/"
        },
        "id": "Q3pxNxrBn339",
        "outputId": "d44e141f-ab23-4f9c-9cf7-b483d3b310ed"
      },
      "outputs": [
        {
          "output_type": "stream",
          "name": "stdout",
          "text": [
            "[-1980, 220, 420, 520, 770]\n"
          ]
        }
      ],
      "source": [
        "cf_new = []\n",
        "for i in cf:\n",
        "  cf_new.append(i+20)\n",
        "print(cf_new)"
      ]
    },
    {
      "cell_type": "markdown",
      "metadata": {
        "id": "0j6gQlmzn33-"
      },
      "source": [
        "(result: [-1980, 220, 420, 520, 770])"
      ]
    },
    {
      "cell_type": "markdown",
      "metadata": {
        "id": "dWlVzQjEn33-"
      },
      "source": [
        "13. __Sort__ cf_new from __high to low__! __Change__ cf_new in memory!"
      ]
    },
    {
      "cell_type": "code",
      "execution_count": null,
      "metadata": {
        "id": "NERXQ4ern33-"
      },
      "outputs": [],
      "source": [
        "cf_new.sort(reverse = True)"
      ]
    },
    {
      "cell_type": "code",
      "execution_count": null,
      "metadata": {
        "colab": {
          "base_uri": "https://localhost:8080/"
        },
        "id": "zZppkKK3n33-",
        "outputId": "00dbffd1-bb2b-42a7-be9f-073a9a8e6f5e"
      },
      "outputs": [
        {
          "output_type": "execute_result",
          "data": {
            "text/plain": [
              "[770, 520, 420, 220, -1980]"
            ]
          },
          "metadata": {},
          "execution_count": 74
        }
      ],
      "source": [
        "cf_new"
      ]
    },
    {
      "cell_type": "markdown",
      "metadata": {
        "id": "KhVG_rGAn33-"
      },
      "source": [
        "(result: [770, 520, 420, 220, -1980])"
      ]
    },
    {
      "cell_type": "markdown",
      "metadata": {
        "id": "oJuMFtXan33-"
      },
      "source": [
        "Initially, we have two projects with identical cashflows:"
      ]
    },
    {
      "cell_type": "code",
      "execution_count": null,
      "metadata": {
        "id": "J0-98ZJjn33-"
      },
      "outputs": [],
      "source": [
        "#run the cell\n",
        "cf1 = [-50, 10, 30, 50]\n",
        "cf2 = cf1"
      ]
    },
    {
      "cell_type": "markdown",
      "metadata": {
        "id": "siVAj47yn33-"
      },
      "source": [
        "Then, the first cashflow of project 1 changes to -60."
      ]
    },
    {
      "cell_type": "code",
      "execution_count": null,
      "metadata": {
        "colab": {
          "base_uri": "https://localhost:8080/"
        },
        "id": "GncmCKP3n33-",
        "outputId": "5978e129-90bd-480f-c393-e758b8fb1a92"
      },
      "outputs": [
        {
          "output_type": "execute_result",
          "data": {
            "text/plain": [
              "[-60, 10, 30, 50]"
            ]
          },
          "metadata": {},
          "execution_count": 81
        }
      ],
      "source": [
        "#run the cell\n",
        "cf1[0] = -60\n",
        "cf1"
      ]
    },
    {
      "cell_type": "markdown",
      "metadata": {
        "id": "X5_PBM0On33_"
      },
      "source": [
        "14. Check, whether __cf2 changed__ as well!"
      ]
    },
    {
      "cell_type": "code",
      "execution_count": null,
      "metadata": {
        "colab": {
          "base_uri": "https://localhost:8080/"
        },
        "id": "fEN__316n33_",
        "outputId": "c24695e3-a8f3-4807-d94b-3ad7e71cadb5"
      },
      "outputs": [
        {
          "output_type": "execute_result",
          "data": {
            "text/plain": [
              "[-60, 10, 30, 50]"
            ]
          },
          "metadata": {},
          "execution_count": 77
        }
      ],
      "source": [
        "cf2"
      ]
    },
    {
      "cell_type": "code",
      "execution_count": null,
      "metadata": {
        "id": "6FP2MIJAn33_"
      },
      "outputs": [],
      "source": []
    },
    {
      "cell_type": "markdown",
      "metadata": {
        "id": "8pj3eIb5n33_"
      },
      "source": [
        "15. __Rewrite__ the above code and make sure that __cf2 does not change__! Follow __best practices__!"
      ]
    },
    {
      "cell_type": "code",
      "execution_count": null,
      "metadata": {
        "colab": {
          "base_uri": "https://localhost:8080/"
        },
        "id": "Xn3nwJeVn33_",
        "outputId": "a6127792-3582-4e0a-fc4e-a4bfe2d596c3"
      },
      "outputs": [
        {
          "output_type": "stream",
          "name": "stdout",
          "text": [
            "[-50, 10, 30, 50] [-50, 10, 30, 50]\n"
          ]
        }
      ],
      "source": [
        "cf2 = cf1.copy()\n",
        "print(cf1, cf2)"
      ]
    },
    {
      "cell_type": "code",
      "execution_count": null,
      "metadata": {
        "colab": {
          "base_uri": "https://localhost:8080/"
        },
        "id": "JQUH9BYbn33_",
        "outputId": "5b7a043c-633e-4dc3-8c13-f1f7f99aedd2"
      },
      "outputs": [
        {
          "output_type": "execute_result",
          "data": {
            "text/plain": [
              "[-60, 10, 30, 50]"
            ]
          },
          "metadata": {},
          "execution_count": 82
        }
      ],
      "source": [
        "cf1[0] = -60\n",
        "cf1"
      ]
    },
    {
      "cell_type": "code",
      "execution_count": null,
      "metadata": {
        "colab": {
          "base_uri": "https://localhost:8080/"
        },
        "id": "FCI-UZcKn33_",
        "outputId": "1449f9e1-3d41-499b-d136-923fa1cf789f"
      },
      "outputs": [
        {
          "output_type": "stream",
          "name": "stdout",
          "text": [
            "[-60, 10, 30, 50] [-50, 10, 30, 50]\n"
          ]
        }
      ],
      "source": [
        "print(cf1, cf2)"
      ]
    },
    {
      "cell_type": "markdown",
      "metadata": {
        "id": "ntPy1o58n33_"
      },
      "source": [
        "# Well Done!"
      ]
    }
  ]
}