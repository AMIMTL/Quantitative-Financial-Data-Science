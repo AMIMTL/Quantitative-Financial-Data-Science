{
  "nbformat": 4,
  "nbformat_minor": 0,
  "metadata": {
    "colab": {
      "provenance": []
    },
    "kernelspec": {
      "name": "python3",
      "display_name": "Python 3"
    },
    "language_info": {
      "name": "python"
    }
  },
  "cells": [
    {
      "cell_type": "markdown",
      "metadata": {
        "id": "DFjRo7cYPfa4"
      },
      "source": [
        "# Coding Exercises (Part 1)"
      ]
    },
    {
      "cell_type": "markdown",
      "metadata": {
        "id": "wM9uOnQcPfa5"
      },
      "source": [
        "Now, you will have the opportunity to practice what you have learned. <br>\n",
        "__Follow the instructions__ and insert your code!"
      ]
    },
    {
      "cell_type": "markdown",
      "metadata": {
        "id": "LOPD7saWPfa5"
      },
      "source": [
        "The correct answer is provided below your coding cell. There you can check whether your code is correct."
      ]
    },
    {
      "cell_type": "markdown",
      "metadata": {
        "id": "pcKxUKOOPfa5"
      },
      "source": [
        "If you need some help or if you want to check your code, you can also have a look at the __solutions__."
      ]
    },
    {
      "cell_type": "markdown",
      "metadata": {
        "id": "1U9PcSi4Pfa5"
      },
      "source": [
        "### Have Fun!"
      ]
    },
    {
      "cell_type": "markdown",
      "metadata": {
        "id": "I5V0-2BSPfa5"
      },
      "source": [
        "--------------------------------------------------------------------------------------------------------------"
      ]
    },
    {
      "cell_type": "markdown",
      "metadata": {
        "id": "YLQ9TROMPfa5"
      },
      "source": [
        "## Exercise 2:  Lists and For Loops for TVM Problems with many Cashflows"
      ]
    },
    {
      "cell_type": "markdown",
      "metadata": {
        "id": "cjG8eLPtPfa5"
      },
      "source": [
        "Use __variables__, __lists__ and __for loops__ where appropriate!"
      ]
    },
    {
      "cell_type": "markdown",
      "metadata": {
        "id": "slIwAKaXPfa6"
      },
      "source": [
        "You have the following savings plan:\n",
        "\n",
        "- 1,000 USD today\n",
        "- 1,200 USD in 1 year\n",
        "- 1,500 USD in 2 years\n",
        "- 2,000 USD in 3 years\n",
        "- 2,500 USD in 4 years\n",
        "- 3,000 USD in 5 years\n",
        "- 3,500 USD in 6 years"
      ]
    },
    {
      "cell_type": "markdown",
      "metadata": {
        "id": "SMD-HfI5Pfa6"
      },
      "source": [
        "1. __Create a list__ and __store__ the list in memory!"
      ]
    },
    {
      "cell_type": "code",
      "execution_count": 1,
      "metadata": {
        "id": "JoLH61YUPfa6"
      },
      "outputs": [],
      "source": [
        "cf = [1000,1200,1500,2000,2500,3000,3500]"
      ]
    },
    {
      "cell_type": "markdown",
      "metadata": {
        "id": "5Hd3pOPaPfa6"
      },
      "source": [
        "(result: [1000, 1200, 1500, 2000, 2500, 3000, 3500])"
      ]
    },
    {
      "cell_type": "markdown",
      "metadata": {
        "id": "RwA89s1aPfa6"
      },
      "source": [
        "2. __Index__ the list for the following elements!  "
      ]
    },
    {
      "cell_type": "markdown",
      "metadata": {
        "id": "n8-DcJgNPfa6"
      },
      "source": [
        "Today´s saving"
      ]
    },
    {
      "cell_type": "code",
      "execution_count": 3,
      "metadata": {
        "colab": {
          "base_uri": "https://localhost:8080/"
        },
        "id": "JtQrcWEEPfa7",
        "outputId": "6c39827b-db5d-4116-c498-f9e2980626b4"
      },
      "outputs": [
        {
          "output_type": "execute_result",
          "data": {
            "text/plain": [
              "1000"
            ]
          },
          "metadata": {},
          "execution_count": 3
        }
      ],
      "source": [
        "cf[0]"
      ]
    },
    {
      "cell_type": "markdown",
      "metadata": {
        "id": "E9VXRfAmPfa7"
      },
      "source": [
        "Saving in year 3"
      ]
    },
    {
      "cell_type": "code",
      "execution_count": 5,
      "metadata": {
        "colab": {
          "base_uri": "https://localhost:8080/"
        },
        "id": "vsZRpuAUPfa7",
        "outputId": "84d49602-7882-43ab-aa4e-d1110e5b4901"
      },
      "outputs": [
        {
          "output_type": "execute_result",
          "data": {
            "text/plain": [
              "2000"
            ]
          },
          "metadata": {},
          "execution_count": 5
        }
      ],
      "source": [
        "cf[3]"
      ]
    },
    {
      "cell_type": "markdown",
      "metadata": {
        "id": "KSiPbdbgPfa7"
      },
      "source": [
        "The second element of the list"
      ]
    },
    {
      "cell_type": "code",
      "execution_count": 6,
      "metadata": {
        "colab": {
          "base_uri": "https://localhost:8080/"
        },
        "id": "6QTnvr0nPfa7",
        "outputId": "a1f38782-f268-45f5-941f-5a45a434aa14"
      },
      "outputs": [
        {
          "output_type": "execute_result",
          "data": {
            "text/plain": [
              "1200"
            ]
          },
          "metadata": {},
          "execution_count": 6
        }
      ],
      "source": [
        "cf[1]"
      ]
    },
    {
      "cell_type": "markdown",
      "metadata": {
        "id": "BjNqkg4tPfa7"
      },
      "source": [
        "Final year´s saving"
      ]
    },
    {
      "cell_type": "code",
      "execution_count": 7,
      "metadata": {
        "colab": {
          "base_uri": "https://localhost:8080/"
        },
        "id": "Iqr4aiiPPfa7",
        "outputId": "f350656b-599c-4263-9ab2-c4dfff0e015d"
      },
      "outputs": [
        {
          "output_type": "execute_result",
          "data": {
            "text/plain": [
              "3500"
            ]
          },
          "metadata": {},
          "execution_count": 7
        }
      ],
      "source": [
        "cf[-1]"
      ]
    },
    {
      "cell_type": "markdown",
      "metadata": {
        "id": "S_UepLQQPfa8"
      },
      "source": [
        "3. __Iterate__ over the list and __print__ each and every element."
      ]
    },
    {
      "cell_type": "code",
      "execution_count": 9,
      "metadata": {
        "colab": {
          "base_uri": "https://localhost:8080/"
        },
        "id": "VYHCJzjGPfa8",
        "outputId": "1c040652-6dca-4562-be5e-6d7325b89dbe"
      },
      "outputs": [
        {
          "output_type": "stream",
          "name": "stdout",
          "text": [
            "1000\n",
            "1200\n",
            "1500\n",
            "2000\n",
            "2500\n",
            "3000\n",
            "3500\n"
          ]
        }
      ],
      "source": [
        "for i in range(len(cf)):\n",
        "  print(cf[i])"
      ]
    },
    {
      "cell_type": "markdown",
      "metadata": {
        "id": "p7__oD7bPfa8"
      },
      "source": [
        "4. Calculate the __sum__ of your savings. Use a __for loop__ and print intermediate results!"
      ]
    },
    {
      "cell_type": "code",
      "execution_count": 10,
      "metadata": {
        "colab": {
          "base_uri": "https://localhost:8080/"
        },
        "id": "sKD4XoRcPfa8",
        "outputId": "eaf9e197-15a1-418a-8dc1-9073251d3e57"
      },
      "outputs": [
        {
          "output_type": "stream",
          "name": "stdout",
          "text": [
            "14700\n"
          ]
        }
      ],
      "source": [
        "total_cf = 0\n",
        "for i in range(len(cf)):\n",
        "  total_cf += cf[i]\n",
        "print(total_cf)"
      ]
    },
    {
      "cell_type": "markdown",
      "metadata": {
        "id": "zBewgAolPfa8"
      },
      "source": [
        "(result: 14,700 USD)"
      ]
    },
    {
      "cell_type": "markdown",
      "metadata": {
        "id": "Nn1KyHjIPfa8"
      },
      "source": [
        "5. Now, use two __Python built-in function__ to calculate the sum and the number of elements."
      ]
    },
    {
      "cell_type": "code",
      "execution_count": 11,
      "metadata": {
        "colab": {
          "base_uri": "https://localhost:8080/"
        },
        "id": "-4RNUbWOPfa8",
        "outputId": "96985229-a004-4626-9dd4-9ccdbf7102fc"
      },
      "outputs": [
        {
          "output_type": "execute_result",
          "data": {
            "text/plain": [
              "14700"
            ]
          },
          "metadata": {},
          "execution_count": 11
        }
      ],
      "source": [
        "#sum\n",
        "sum(cf)"
      ]
    },
    {
      "cell_type": "markdown",
      "metadata": {
        "id": "5E_7cbiMPfa8"
      },
      "source": [
        "(result: 14,700 USD)"
      ]
    },
    {
      "cell_type": "code",
      "execution_count": 12,
      "metadata": {
        "colab": {
          "base_uri": "https://localhost:8080/"
        },
        "id": "1Kjfsd9xPfa8",
        "outputId": "7b2de56c-fca0-4ea5-a64e-2405c662837c"
      },
      "outputs": [
        {
          "output_type": "execute_result",
          "data": {
            "text/plain": [
              "7"
            ]
          },
          "metadata": {},
          "execution_count": 12
        }
      ],
      "source": [
        "#lenght\n",
        "len(cf)"
      ]
    },
    {
      "cell_type": "markdown",
      "metadata": {
        "id": "QZX96V5_Pfa8"
      },
      "source": [
        "(result: 7)"
      ]
    },
    {
      "cell_type": "markdown",
      "metadata": {
        "id": "KR3Yb5iKPfa9"
      },
      "source": [
        "6. __Print__ all integers from __0 until 100__. Use __range()__!"
      ]
    },
    {
      "cell_type": "code",
      "execution_count": 13,
      "metadata": {
        "colab": {
          "base_uri": "https://localhost:8080/"
        },
        "id": "IEN8j_RIPfa9",
        "outputId": "2e78baf4-d9e8-4b28-8ffb-9414c188e9d9"
      },
      "outputs": [
        {
          "output_type": "stream",
          "name": "stdout",
          "text": [
            "0\n",
            "1\n",
            "2\n",
            "3\n",
            "4\n",
            "5\n",
            "6\n",
            "7\n",
            "8\n",
            "9\n",
            "10\n",
            "11\n",
            "12\n",
            "13\n",
            "14\n",
            "15\n",
            "16\n",
            "17\n",
            "18\n",
            "19\n",
            "20\n",
            "21\n",
            "22\n",
            "23\n",
            "24\n",
            "25\n",
            "26\n",
            "27\n",
            "28\n",
            "29\n",
            "30\n",
            "31\n",
            "32\n",
            "33\n",
            "34\n",
            "35\n",
            "36\n",
            "37\n",
            "38\n",
            "39\n",
            "40\n",
            "41\n",
            "42\n",
            "43\n",
            "44\n",
            "45\n",
            "46\n",
            "47\n",
            "48\n",
            "49\n",
            "50\n",
            "51\n",
            "52\n",
            "53\n",
            "54\n",
            "55\n",
            "56\n",
            "57\n",
            "58\n",
            "59\n",
            "60\n",
            "61\n",
            "62\n",
            "63\n",
            "64\n",
            "65\n",
            "66\n",
            "67\n",
            "68\n",
            "69\n",
            "70\n",
            "71\n",
            "72\n",
            "73\n",
            "74\n",
            "75\n",
            "76\n",
            "77\n",
            "78\n",
            "79\n",
            "80\n",
            "81\n",
            "82\n",
            "83\n",
            "84\n",
            "85\n",
            "86\n",
            "87\n",
            "88\n",
            "89\n",
            "90\n",
            "91\n",
            "92\n",
            "93\n",
            "94\n",
            "95\n",
            "96\n",
            "97\n",
            "98\n",
            "99\n"
          ]
        }
      ],
      "source": [
        "for i in range(100):\n",
        "  print(i)"
      ]
    },
    {
      "cell_type": "markdown",
      "metadata": {
        "id": "27lGO-31Pfa9"
      },
      "source": [
        "7. Create and save the list n with all timestamps (0, 1, 2, 3, 4, 5, 6). Use __range()__!"
      ]
    },
    {
      "cell_type": "code",
      "execution_count": 16,
      "metadata": {
        "id": "HGIGDWvcPfa9"
      },
      "outputs": [],
      "source": [
        "range_6 = list(range(6+1))"
      ]
    },
    {
      "cell_type": "markdown",
      "metadata": {
        "id": "VbU97uZ6Pfa9"
      },
      "source": [
        "8. __Reverse__ the order of n and __reassign__ n!"
      ]
    },
    {
      "cell_type": "code",
      "execution_count": 23,
      "metadata": {
        "id": "BQhLzpH2Pfa9"
      },
      "outputs": [],
      "source": [
        "range_6 = range_6[::-1]"
      ]
    },
    {
      "cell_type": "markdown",
      "metadata": {
        "id": "SS3UyIICPfa9"
      },
      "source": [
        "(result: [6, 5, 4, 3, 2, 1, 0]"
      ]
    },
    {
      "cell_type": "code",
      "source": [
        "cf"
      ],
      "metadata": {
        "colab": {
          "base_uri": "https://localhost:8080/"
        },
        "id": "hlQfMqmlSAbh",
        "outputId": "a2be2f49-c5f4-4f1d-b070-c210069595bd"
      },
      "execution_count": 24,
      "outputs": [
        {
          "output_type": "execute_result",
          "data": {
            "text/plain": [
              "[1000, 1200, 1500, 2000, 2500, 3000, 3500]"
            ]
          },
          "metadata": {},
          "execution_count": 24
        }
      ]
    },
    {
      "cell_type": "markdown",
      "metadata": {
        "id": "63zAinJGPfa9"
      },
      "source": [
        "9. Calculate the __future value__ of your account after year 6. Assume an interest rate of 4.0% p.a."
      ]
    },
    {
      "cell_type": "code",
      "execution_count": 19,
      "metadata": {
        "id": "fY3zEyPCPfa9"
      },
      "outputs": [],
      "source": [
        "r = 0.04"
      ]
    },
    {
      "cell_type": "code",
      "execution_count": 28,
      "metadata": {
        "colab": {
          "base_uri": "https://localhost:8080/"
        },
        "id": "mnxRJ7nYPfa9",
        "outputId": "6ff9ab32-b124-46b1-f154-d8c1569d8432"
      },
      "outputs": [
        {
          "output_type": "stream",
          "name": "stdout",
          "text": [
            "year: 1 3500.0\n",
            "year: 2 6620.0\n",
            "year: 3 9324.0\n",
            "year: 4 11573.73\n",
            "year: 5 13328.52\n",
            "year: 6 14788.5\n",
            "year: 7 16053.82\n"
          ]
        }
      ],
      "source": [
        "fv= 0\n",
        "for i in range_6:\n",
        "  fv += cf[6-i]*(1+r)**(i)\n",
        "  print(\"year:\",i+1,round(fv,2))"
      ]
    },
    {
      "cell_type": "markdown",
      "metadata": {
        "id": "hoWhk9muPfa9"
      },
      "source": [
        "(result: 16,053.82 USD)"
      ]
    },
    {
      "cell_type": "markdown",
      "metadata": {
        "id": "tNpBG8MdPfa9"
      },
      "source": [
        "The ABC Company evaluates to buy an additional machine that will increase future profits/cashflows by\n",
        "- 200 USD in t1,\n",
        "- 300 USD in t2,\n",
        "- 500 USD in t3,\n",
        "- 750 USD in t4,\n",
        "- 1,000 USD in t5. (each cf at period´s end)<br>"
      ]
    },
    {
      "cell_type": "markdown",
      "metadata": {
        "id": "TYUYG4mcPfa-"
      },
      "source": [
        "\n",
        "10. The machine costs __2,000 USD__ (Investment in to). Calculate the Project´s __NPV__ and evaluate whether ABC should pursue the project. <br> ABC´s required rate of return (Cost of Capital) is __8%__ p.a."
      ]
    },
    {
      "cell_type": "code",
      "execution_count": 51,
      "metadata": {
        "colab": {
          "base_uri": "https://localhost:8080/"
        },
        "id": "HaDnKjmwPfa-",
        "outputId": "0fba779f-d1c4-4ac4-ab93-f858f55f3d8f"
      },
      "outputs": [
        {
          "output_type": "execute_result",
          "data": {
            "text/plain": [
              "[200, 300, 500, 750, 1000]"
            ]
          },
          "metadata": {},
          "execution_count": 51
        }
      ],
      "source": [
        "cf = [200,300,500,750,1000]\n",
        "npv = -2000\n",
        "rrt = 0.08 # required_rate of return\n",
        "cf"
      ]
    },
    {
      "cell_type": "code",
      "execution_count": 52,
      "metadata": {
        "colab": {
          "base_uri": "https://localhost:8080/"
        },
        "id": "uu84XBRjPfa-",
        "outputId": "6e52b1cd-91fe-4b6e-ca21-784963c33c70"
      },
      "outputs": [
        {
          "output_type": "stream",
          "name": "stdout",
          "text": [
            "-1814.8148148148148\n",
            "-1557.6131687242798\n",
            "-1160.697048214195\n",
            "-609.4246586168551\n",
            "71.15853841689773\n"
          ]
        }
      ],
      "source": [
        "for i in range(len(cf)):\n",
        "  npv += cf[i]/(1+rrt)**(i+1)\n",
        "  print(npv)"
      ]
    },
    {
      "cell_type": "markdown",
      "metadata": {
        "id": "3CyY0CfVPfa-"
      },
      "source": [
        "(result: 71.16 USD)"
      ]
    },
    {
      "cell_type": "markdown",
      "source": [
        "Yes since its npv is positive."
      ],
      "metadata": {
        "id": "7gP_Kns6WSRq"
      }
    },
    {
      "cell_type": "markdown",
      "metadata": {
        "id": "EJatVYO-Pfa-"
      },
      "source": [
        "11. Would ABC accept the project with a __required rate of return of 10.0% p.a.__?"
      ]
    },
    {
      "cell_type": "code",
      "execution_count": 53,
      "metadata": {
        "colab": {
          "base_uri": "https://localhost:8080/"
        },
        "id": "UoBgELqCPfa-",
        "outputId": "20adeda0-5264-4c62-ef40-12e4a5bf75ab"
      },
      "outputs": [
        {
          "output_type": "stream",
          "name": "stdout",
          "text": [
            "-1818.1818181818182\n",
            "-1570.2479338842977\n",
            "-1194.5905334335089\n",
            "-682.330441909706\n",
            "-61.40911885055107\n"
          ]
        }
      ],
      "source": [
        "cf = [200,300,500,750,1000]\n",
        "npv = -2000\n",
        "rrt = 0.10 # required_rate of return\n",
        "cf\n",
        "\n",
        "for i in range(len(cf)):\n",
        "  npv += cf[i]/(1+rrt)**(i+1)\n",
        "  print(npv)\n"
      ]
    },
    {
      "cell_type": "markdown",
      "source": [
        "No, since its npv is negative."
      ],
      "metadata": {
        "id": "mcBmqlwTWgdZ"
      }
    },
    {
      "cell_type": "markdown",
      "metadata": {
        "id": "317KllcpPfa-"
      },
      "source": [
        "(result: -61.41)"
      ]
    },
    {
      "cell_type": "markdown",
      "metadata": {
        "id": "Xien_FBRO3ym"
      },
      "source": [
        "Now, you will have the opportunity to practice what you have learned. <br>\n",
        "__Follow the instructions__ and insert your code!"
      ]
    },
    {
      "cell_type": "markdown",
      "metadata": {
        "id": "rKkEUHabO3ym"
      },
      "source": [
        "The correct answer is provided below your coding cell. There you can check whether your code is correct."
      ]
    },
    {
      "cell_type": "markdown",
      "metadata": {
        "id": "EhF-MAUSO3yn"
      },
      "source": [
        "### Have Fun!"
      ]
    },
    {
      "cell_type": "markdown",
      "metadata": {
        "id": "lW8IqbY3O3yo"
      },
      "source": [
        "--------------------------------------------------------------------------------------------------------------"
      ]
    }
  ]
}