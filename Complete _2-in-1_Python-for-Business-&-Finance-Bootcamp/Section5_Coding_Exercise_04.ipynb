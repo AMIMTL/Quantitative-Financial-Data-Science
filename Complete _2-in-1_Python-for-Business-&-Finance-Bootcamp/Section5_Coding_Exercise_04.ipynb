{
  "nbformat": 4,
  "nbformat_minor": 0,
  "metadata": {
    "colab": {
      "provenance": []
    },
    "kernelspec": {
      "name": "python3",
      "display_name": "Python 3"
    },
    "language_info": {
      "name": "python"
    }
  },
  "cells": [
    {
      "cell_type": "code",
      "execution_count": null,
      "metadata": {
        "id": "YOxNki9hlRVU"
      },
      "outputs": [],
      "source": []
    },
    {
      "cell_type": "markdown",
      "metadata": {
        "id": "nJ8KGFV9fCog"
      },
      "source": [
        "# Coding Exercises (Part 1)"
      ]
    },
    {
      "cell_type": "markdown",
      "metadata": {
        "id": "FxdCMFs4fCoh"
      },
      "source": [
        "Now, you will have the opportunity to practice what you have learned. <br>\n",
        "__Follow the instructions__ and insert your code!"
      ]
    },
    {
      "cell_type": "markdown",
      "metadata": {
        "id": "6fGhqlURfCoi"
      },
      "source": [
        "The correct answer is provided below your coding cell. There you can check whether your code is correct."
      ]
    },
    {
      "cell_type": "markdown",
      "metadata": {
        "id": "51tfZxHHfCoi"
      },
      "source": [
        "If you need some help or if you want to check your code, you can also have a look at the __solutions__."
      ]
    },
    {
      "cell_type": "markdown",
      "metadata": {
        "id": "BCZcuHOLfCoi"
      },
      "source": [
        "### Have Fun!"
      ]
    },
    {
      "cell_type": "markdown",
      "metadata": {
        "id": "WkqCNPenfCoj"
      },
      "source": [
        "--------------------------------------------------------------------------------------------------------------"
      ]
    },
    {
      "cell_type": "markdown",
      "metadata": {
        "id": "ZGT01WAPfCoj"
      },
      "source": [
        "## Exercise 4: Tuples, Dictionaries, Strings, Booleans & Operators"
      ]
    },
    {
      "cell_type": "markdown",
      "metadata": {
        "id": "QM9iVkLnfCoj"
      },
      "source": [
        "1. __Create and save a tuple__ with the elements 100, 0.03 and 103!"
      ]
    },
    {
      "cell_type": "code",
      "execution_count": null,
      "metadata": {
        "id": "xXys0TjJfCoj"
      },
      "outputs": [],
      "source": [
        "tuple_1= (100,0.03,103)"
      ]
    },
    {
      "cell_type": "markdown",
      "metadata": {
        "id": "Jw9Lh6X1fCok"
      },
      "source": [
        "2. __Index__ the tuple for the second element (0.03)"
      ]
    },
    {
      "cell_type": "code",
      "execution_count": null,
      "metadata": {
        "colab": {
          "base_uri": "https://localhost:8080/"
        },
        "id": "mOwpqBKlfCok",
        "outputId": "38beaf4f-85fd-40a2-f756-20fff809a5e6"
      },
      "outputs": [
        {
          "output_type": "execute_result",
          "data": {
            "text/plain": [
              "0.03"
            ]
          },
          "metadata": {},
          "execution_count": 4
        }
      ],
      "source": [
        "tuple_1[1]"
      ]
    },
    {
      "cell_type": "markdown",
      "metadata": {
        "id": "x1sM5rSRfCol"
      },
      "source": [
        "3. Try to __change__ the third element to 106.09. Are tuples __mutable__?"
      ]
    },
    {
      "cell_type": "code",
      "execution_count": null,
      "metadata": {
        "colab": {
          "base_uri": "https://localhost:8080/",
          "height": 145
        },
        "id": "m4zhO-ZmfCol",
        "outputId": "20562d24-d30b-4754-cf54-cace003600fd"
      },
      "outputs": [
        {
          "output_type": "error",
          "ename": "TypeError",
          "evalue": "'tuple' object does not support item assignment",
          "traceback": [
            "\u001b[0;31m---------------------------------------------------------------------------\u001b[0m",
            "\u001b[0;31mTypeError\u001b[0m                                 Traceback (most recent call last)",
            "\u001b[0;32m/tmp/ipython-input-3618538583.py\u001b[0m in \u001b[0;36m<cell line: 0>\u001b[0;34m()\u001b[0m\n\u001b[0;32m----> 1\u001b[0;31m \u001b[0mtuple_1\u001b[0m\u001b[0;34m[\u001b[0m\u001b[0;36m2\u001b[0m\u001b[0;34m]\u001b[0m \u001b[0;34m=\u001b[0m \u001b[0;36m106.09\u001b[0m\u001b[0;34m\u001b[0m\u001b[0;34m\u001b[0m\u001b[0m\n\u001b[0m",
            "\u001b[0;31mTypeError\u001b[0m: 'tuple' object does not support item assignment"
          ]
        }
      ],
      "source": [
        "tuple_1[2] = 106.09"
      ]
    },
    {
      "cell_type": "markdown",
      "metadata": {
        "id": "YuhUXGJWfCol"
      },
      "source": [
        "4. Create and save a __dictionary__ with two Country/Capital Pairs of your choice (e.g. France/Paris)"
      ]
    },
    {
      "cell_type": "code",
      "execution_count": null,
      "metadata": {
        "id": "XPuJ7bEcfCol"
      },
      "outputs": [],
      "source": [
        "country_dict = {}\n",
        "country_dict[\"Country\"] = [\"France\", \"Canada\"]\n",
        "country_dict[\"Capital\"] = [\"Paris\" , \"Ottawa\"]"
      ]
    },
    {
      "cell_type": "code",
      "source": [
        "for i in range(len(country_dict)):\n",
        "  print(\"{} is the capital of {}.\".format(country_dict[\"Capital\"][i],country_dict[\"Country\"][i]))"
      ],
      "metadata": {
        "colab": {
          "base_uri": "https://localhost:8080/"
        },
        "id": "fvxiyhIUiFud",
        "outputId": "26559683-cade-4df5-d638-514d78a173a4"
      },
      "execution_count": null,
      "outputs": [
        {
          "output_type": "stream",
          "name": "stdout",
          "text": [
            "Paris is the capital of France.\n",
            "Ottawa is the capital of Canada.\n"
          ]
        }
      ]
    },
    {
      "cell_type": "markdown",
      "metadata": {
        "id": "b8PJ7UGUfCom"
      },
      "source": [
        "5. __Return__ the Capital for one country of your choice."
      ]
    },
    {
      "cell_type": "code",
      "execution_count": null,
      "metadata": {
        "colab": {
          "base_uri": "https://localhost:8080/"
        },
        "id": "NgF2D5dufCol",
        "outputId": "c33cc8a9-7b71-49ff-81db-b836c6962d9b"
      },
      "outputs": [
        {
          "output_type": "execute_result",
          "data": {
            "text/plain": [
              "2"
            ]
          },
          "metadata": {},
          "execution_count": 34
        }
      ],
      "source": [
        "len(country_dict)"
      ]
    },
    {
      "cell_type": "markdown",
      "metadata": {
        "id": "pidWUnO6fCom"
      },
      "source": [
        "6. __Iterate__ over your dictionary and __print__ for each key, value pair the following statement: __\"XYZ is the capital of ABC:\". Use string replacement!__"
      ]
    },
    {
      "cell_type": "code",
      "execution_count": null,
      "metadata": {
        "colab": {
          "base_uri": "https://localhost:8080/"
        },
        "id": "C6sxjx2FfCom",
        "outputId": "d36c2132-5169-4274-d4fc-d9f6d4bb3504"
      },
      "outputs": [
        {
          "output_type": "stream",
          "name": "stdout",
          "text": [
            "France is the capital of Canada:\n",
            "Paris is the capital of Ottawa:\n"
          ]
        }
      ],
      "source": [
        "for k in country_dict.keys():\n",
        "  print(\"{} is the capital of {}:\".format(country_dict[k][0],country_dict[k][1]))"
      ]
    },
    {
      "cell_type": "markdown",
      "metadata": {
        "id": "p7JIquyzfCom"
      },
      "source": [
        "7. __Save__ the following string in memory: \"US growth rate eases to 1.9% in the third quarter.\""
      ]
    },
    {
      "cell_type": "code",
      "execution_count": null,
      "metadata": {
        "id": "V9jh5JtcfCom"
      },
      "outputs": [],
      "source": [
        "my_string = \"US growth rate eases to 1.9% in the third quarter.\""
      ]
    },
    {
      "cell_type": "markdown",
      "metadata": {
        "id": "a7pO2rmTfCon"
      },
      "source": [
        "8. __Index__ the string for the second last character."
      ]
    },
    {
      "cell_type": "code",
      "execution_count": null,
      "metadata": {
        "colab": {
          "base_uri": "https://localhost:8080/",
          "height": 35
        },
        "id": "4ze-M2NTfCon",
        "outputId": "1f55c343-f806-4720-f30b-b354deeb6f33"
      },
      "outputs": [
        {
          "output_type": "execute_result",
          "data": {
            "text/plain": [
              "'r.'"
            ],
            "application/vnd.google.colaboratory.intrinsic+json": {
              "type": "string"
            }
          },
          "metadata": {},
          "execution_count": 38
        }
      ],
      "source": [
        "my_string[-2:]"
      ]
    },
    {
      "cell_type": "markdown",
      "metadata": {
        "id": "GEERVpq4fCon"
      },
      "source": [
        "9. Convert the string to __uppercase__. __Reassign__ your variable!"
      ]
    },
    {
      "cell_type": "code",
      "execution_count": null,
      "metadata": {
        "colab": {
          "base_uri": "https://localhost:8080/",
          "height": 35
        },
        "id": "Z4QgCqo0fCon",
        "outputId": "df2aeba6-ac82-4c93-d011-cf7d5a36fd71"
      },
      "outputs": [
        {
          "output_type": "execute_result",
          "data": {
            "text/plain": [
              "'US GROWTH RATE EASES TO 1.9% IN THE THIRD QUARTER.'"
            ],
            "application/vnd.google.colaboratory.intrinsic+json": {
              "type": "string"
            }
          },
          "metadata": {},
          "execution_count": 39
        }
      ],
      "source": [
        "my_string.upper()"
      ]
    },
    {
      "cell_type": "markdown",
      "metadata": {
        "id": "KPbaxTWvfCon"
      },
      "source": [
        "9. Check whether __a is greater than b__."
      ]
    },
    {
      "cell_type": "code",
      "execution_count": null,
      "metadata": {
        "id": "oCTrvEbTfCon"
      },
      "outputs": [],
      "source": [
        "# run the cell!\n",
        "a = 5**12\n",
        "b = 4564 * 56750"
      ]
    },
    {
      "cell_type": "code",
      "execution_count": null,
      "metadata": {
        "colab": {
          "base_uri": "https://localhost:8080/"
        },
        "id": "tV6C2cVTfCow",
        "outputId": "9168371a-4657-4cff-8063-0d82feaf896a"
      },
      "outputs": [
        {
          "output_type": "execute_result",
          "data": {
            "text/plain": [
              "False"
            ]
          },
          "metadata": {},
          "execution_count": 41
        }
      ],
      "source": [
        "a > b"
      ]
    },
    {
      "cell_type": "markdown",
      "metadata": {
        "id": "3D0YOA-UfCox"
      },
      "source": [
        "10. Check whether __c is not equal to d__."
      ]
    },
    {
      "cell_type": "code",
      "execution_count": null,
      "metadata": {
        "id": "xGThHi72fCox"
      },
      "outputs": [],
      "source": [
        "# run the cell!\n",
        "c = 12**5\n",
        "d = 31104 * 8"
      ]
    },
    {
      "cell_type": "code",
      "execution_count": null,
      "metadata": {
        "colab": {
          "base_uri": "https://localhost:8080/"
        },
        "id": "48GvHw6BfCox",
        "outputId": "94e16e47-1119-46b3-c573-b91a754428b2"
      },
      "outputs": [
        {
          "output_type": "execute_result",
          "data": {
            "text/plain": [
              "True"
            ]
          },
          "metadata": {},
          "execution_count": 49
        }
      ],
      "source": [
        "c is not d"
      ]
    },
    {
      "cell_type": "code",
      "execution_count": null,
      "metadata": {
        "colab": {
          "base_uri": "https://localhost:8080/"
        },
        "id": "gFCUMmoufCox",
        "outputId": "6a9f213d-344f-4627-e6a2-6ecab9c63cec"
      },
      "outputs": [
        {
          "output_type": "execute_result",
          "data": {
            "text/plain": [
              "False"
            ]
          },
          "metadata": {},
          "execution_count": 50
        }
      ],
      "source": [
        "c != d"
      ]
    },
    {
      "cell_type": "markdown",
      "metadata": {
        "id": "XZE6n1QrfCox"
      },
      "source": [
        "We have the following code:"
      ]
    },
    {
      "cell_type": "code",
      "execution_count": null,
      "metadata": {
        "id": "ulKFZBbXfCox"
      },
      "outputs": [],
      "source": [
        "# run the cell!\n",
        "cf1 = [100, 200]\n",
        "cf2 = cf1\n",
        "cf3 = [100, 200]"
      ]
    },
    {
      "cell_type": "markdown",
      "metadata": {
        "id": "leOO-c15fCox"
      },
      "source": [
        "11. Check whether __cf1 and cf2 are equal__."
      ]
    },
    {
      "cell_type": "code",
      "execution_count": null,
      "metadata": {
        "colab": {
          "base_uri": "https://localhost:8080/"
        },
        "id": "uAn_xyIsfCox",
        "outputId": "575ac494-7d12-48d6-ccc8-9440cd998b97"
      },
      "outputs": [
        {
          "output_type": "execute_result",
          "data": {
            "text/plain": [
              "True"
            ]
          },
          "metadata": {},
          "execution_count": 53
        }
      ],
      "source": [
        "cf1 == cf2"
      ]
    },
    {
      "cell_type": "markdown",
      "metadata": {
        "id": "ydDqPK78fCox"
      },
      "source": [
        "12. Check whether __cf3 and cf2__ are referencing to the very __same object__!"
      ]
    },
    {
      "cell_type": "code",
      "execution_count": null,
      "metadata": {
        "colab": {
          "base_uri": "https://localhost:8080/"
        },
        "id": "VfJZg6lkfCox",
        "outputId": "6845d1b0-6bc8-4eee-af95-a9f921055d30"
      },
      "outputs": [
        {
          "output_type": "execute_result",
          "data": {
            "text/plain": [
              "False"
            ]
          },
          "metadata": {},
          "execution_count": 63
        }
      ],
      "source": [
        "cf3 is cf2"
      ]
    },
    {
      "cell_type": "markdown",
      "metadata": {
        "id": "zxrf8vpSfCoy"
      },
      "source": [
        "13. Check whether __at least one condition is met__."
      ]
    },
    {
      "cell_type": "code",
      "execution_count": null,
      "metadata": {
        "colab": {
          "base_uri": "https://localhost:8080/"
        },
        "id": "vzDhlglCfCoy",
        "outputId": "08e1b29a-0faa-4e7d-da4b-81663c309f35"
      },
      "outputs": [
        {
          "output_type": "execute_result",
          "data": {
            "text/plain": [
              "False"
            ]
          },
          "metadata": {},
          "execution_count": 60
        }
      ],
      "source": [
        "# run the cell!\n",
        "condition_1 = 45754 % 3 == 0 #45754 divisible by 3\n",
        "condition_1"
      ]
    },
    {
      "cell_type": "code",
      "execution_count": null,
      "metadata": {
        "colab": {
          "base_uri": "https://localhost:8080/"
        },
        "id": "PfcezwolfCoy",
        "outputId": "5cff7823-c164-4d0c-872c-8973d792d1ca"
      },
      "outputs": [
        {
          "output_type": "execute_result",
          "data": {
            "text/plain": [
              "True"
            ]
          },
          "metadata": {},
          "execution_count": 59
        }
      ],
      "source": [
        "# run the cell!\n",
        "condition_2 = 45754 > 63 * 650 #45754 greater than 63 * 650\n",
        "condition_2"
      ]
    },
    {
      "cell_type": "code",
      "execution_count": null,
      "metadata": {
        "colab": {
          "base_uri": "https://localhost:8080/"
        },
        "id": "cdQ-MSeCfCoy",
        "outputId": "2c5542de-8c1e-4ed3-a214-edd8667ab17b"
      },
      "outputs": [
        {
          "output_type": "execute_result",
          "data": {
            "text/plain": [
              "True"
            ]
          },
          "metadata": {},
          "execution_count": 61
        }
      ],
      "source": [
        "condition_1 or condition_2"
      ]
    },
    {
      "cell_type": "markdown",
      "metadata": {
        "id": "Eezf9k3nfCoy"
      },
      "source": [
        "14. Check whether __both conditions are met__."
      ]
    },
    {
      "cell_type": "code",
      "execution_count": null,
      "metadata": {
        "id": "a9oIIKrBfCoy"
      },
      "outputs": [],
      "source": [
        "# run the cell!\n",
        "condition_3 = 172578 % 7 == 0 #172578 divisible by 7"
      ]
    },
    {
      "cell_type": "code",
      "execution_count": null,
      "metadata": {
        "id": "V4Q_CBbVfCoy"
      },
      "outputs": [],
      "source": [
        "# run the cell!\n",
        "condition_4 = 172578 < 43145 * 4 #172578 less than 43145 * 4"
      ]
    },
    {
      "cell_type": "markdown",
      "metadata": {
        "id": "9UQv6dlffCoy"
      },
      "source": [
        "15. Does the following Code return __True or False__?"
      ]
    },
    {
      "cell_type": "code",
      "execution_count": null,
      "metadata": {
        "colab": {
          "base_uri": "https://localhost:8080/"
        },
        "id": "bmOdecz_fCoy",
        "outputId": "12bb8853-209e-4ba4-eb80-9195f0e815b8"
      },
      "outputs": [
        {
          "output_type": "execute_result",
          "data": {
            "text/plain": [
              "False"
            ]
          },
          "metadata": {},
          "execution_count": 62
        }
      ],
      "source": [
        "# run the cell to check\n",
        "not((4 != 3) or not(type(23) == int))"
      ]
    },
    {
      "cell_type": "markdown",
      "metadata": {
        "id": "h7ieJ7udfCoz"
      },
      "source": [
        "# Well Done!"
      ]
    },
    {
      "cell_type": "markdown",
      "metadata": {
        "id": "ZZBuAaL0lVPA"
      },
      "source": [
        "# Coding Exercises (Part 1)"
      ]
    },
    {
      "cell_type": "markdown",
      "metadata": {
        "id": "ztpe_8ewlVPA"
      },
      "source": [
        "Now, you will have the opportunity to practice what you have learned. <br>\n",
        "__Follow the instructions__ and insert your code!"
      ]
    },
    {
      "cell_type": "markdown",
      "metadata": {
        "id": "KBmxewR0lVPA"
      },
      "source": [
        "The correct answer is provided below your coding cell. There you can check whether your code is correct."
      ]
    },
    {
      "cell_type": "markdown",
      "metadata": {
        "id": "Fr7lC42MlVPA"
      },
      "source": [
        "If you need some help or if you want to check your code, you can also have a look at the __solutions__."
      ]
    },
    {
      "cell_type": "markdown",
      "metadata": {
        "id": "loOsHZtLlVPA"
      },
      "source": [
        "### Have Fun!"
      ]
    },
    {
      "cell_type": "markdown",
      "metadata": {
        "id": "wO6bX4FAlVPB"
      },
      "source": [
        "--------------------------------------------------------------------------------------------------------------"
      ]
    },
    {
      "cell_type": "markdown",
      "metadata": {
        "id": "0p0E3uOhlVPB"
      },
      "source": [
        "## Exercise 4: Tuples, Dictionaries, Strings, Booleans & Operators"
      ]
    },
    {
      "cell_type": "markdown",
      "metadata": {
        "id": "X8LknO1-lVPB"
      },
      "source": [
        "1. __Create and save a tuple__ with the elements 100, 0.03 and 103!"
      ]
    },
    {
      "cell_type": "code",
      "execution_count": null,
      "metadata": {
        "id": "pSXYPUnwlVPB"
      },
      "outputs": [],
      "source": [
        "tuple_1= (100,0.03,103)"
      ]
    },
    {
      "cell_type": "markdown",
      "metadata": {
        "id": "Cdc2gMCSlVPB"
      },
      "source": [
        "2. __Index__ the tuple for the second element (0.03)"
      ]
    },
    {
      "cell_type": "code",
      "execution_count": null,
      "metadata": {
        "colab": {
          "base_uri": "https://localhost:8080/"
        },
        "outputId": "38beaf4f-85fd-40a2-f756-20fff809a5e6",
        "id": "ubvAZUo0lVPB"
      },
      "outputs": [
        {
          "output_type": "execute_result",
          "data": {
            "text/plain": [
              "0.03"
            ]
          },
          "metadata": {},
          "execution_count": 4
        }
      ],
      "source": [
        "tuple_1[1]"
      ]
    },
    {
      "cell_type": "markdown",
      "metadata": {
        "id": "6aXUyw_hlVPB"
      },
      "source": [
        "3. Try to __change__ the third element to 106.09. Are tuples __mutable__?"
      ]
    },
    {
      "cell_type": "code",
      "execution_count": null,
      "metadata": {
        "colab": {
          "base_uri": "https://localhost:8080/",
          "height": 145
        },
        "outputId": "20562d24-d30b-4754-cf54-cace003600fd",
        "id": "58svmkCBlVPB"
      },
      "outputs": [
        {
          "output_type": "error",
          "ename": "TypeError",
          "evalue": "'tuple' object does not support item assignment",
          "traceback": [
            "\u001b[0;31m---------------------------------------------------------------------------\u001b[0m",
            "\u001b[0;31mTypeError\u001b[0m                                 Traceback (most recent call last)",
            "\u001b[0;32m/tmp/ipython-input-3618538583.py\u001b[0m in \u001b[0;36m<cell line: 0>\u001b[0;34m()\u001b[0m\n\u001b[0;32m----> 1\u001b[0;31m \u001b[0mtuple_1\u001b[0m\u001b[0;34m[\u001b[0m\u001b[0;36m2\u001b[0m\u001b[0;34m]\u001b[0m \u001b[0;34m=\u001b[0m \u001b[0;36m106.09\u001b[0m\u001b[0;34m\u001b[0m\u001b[0;34m\u001b[0m\u001b[0m\n\u001b[0m",
            "\u001b[0;31mTypeError\u001b[0m: 'tuple' object does not support item assignment"
          ]
        }
      ],
      "source": [
        "tuple_1[2] = 106.09"
      ]
    },
    {
      "cell_type": "markdown",
      "metadata": {
        "id": "ufpUlRD5lVPC"
      },
      "source": [
        "4. Create and save a __dictionary__ with two Country/Capital Pairs of your choice (e.g. France/Paris)"
      ]
    },
    {
      "cell_type": "code",
      "execution_count": null,
      "metadata": {
        "id": "f0KtzZVOlVPC"
      },
      "outputs": [],
      "source": [
        "country_dict = {}\n",
        "country_dict[\"Country\"] = [\"France\", \"Canada\"]\n",
        "country_dict[\"Capital\"] = [\"Paris\" , \"Ottawa\"]"
      ]
    },
    {
      "cell_type": "code",
      "source": [
        "for i in range(len(country_dict)):\n",
        "  print(\"{} is the capital of {}.\".format(country_dict[\"Capital\"][i],country_dict[\"Country\"][i]))"
      ],
      "metadata": {
        "colab": {
          "base_uri": "https://localhost:8080/"
        },
        "outputId": "26559683-cade-4df5-d638-514d78a173a4",
        "id": "h6yuSoTYlVPC"
      },
      "execution_count": null,
      "outputs": [
        {
          "output_type": "stream",
          "name": "stdout",
          "text": [
            "Paris is the capital of France.\n",
            "Ottawa is the capital of Canada.\n"
          ]
        }
      ]
    },
    {
      "cell_type": "markdown",
      "metadata": {
        "id": "e5hzlJfxlVPC"
      },
      "source": [
        "5. __Return__ the Capital for one country of your choice."
      ]
    },
    {
      "cell_type": "code",
      "execution_count": null,
      "metadata": {
        "colab": {
          "base_uri": "https://localhost:8080/"
        },
        "outputId": "c33cc8a9-7b71-49ff-81db-b836c6962d9b",
        "id": "c-x00bjUlVPC"
      },
      "outputs": [
        {
          "output_type": "execute_result",
          "data": {
            "text/plain": [
              "2"
            ]
          },
          "metadata": {},
          "execution_count": 34
        }
      ],
      "source": [
        "len(country_dict)"
      ]
    },
    {
      "cell_type": "markdown",
      "metadata": {
        "id": "XJoYC368lVPC"
      },
      "source": [
        "6. __Iterate__ over your dictionary and __print__ for each key, value pair the following statement: __\"XYZ is the capital of ABC:\". Use string replacement!__"
      ]
    },
    {
      "cell_type": "code",
      "execution_count": null,
      "metadata": {
        "colab": {
          "base_uri": "https://localhost:8080/"
        },
        "outputId": "d36c2132-5169-4274-d4fc-d9f6d4bb3504",
        "id": "IPhBwyjZlVPC"
      },
      "outputs": [
        {
          "output_type": "stream",
          "name": "stdout",
          "text": [
            "France is the capital of Canada:\n",
            "Paris is the capital of Ottawa:\n"
          ]
        }
      ],
      "source": [
        "for k in country_dict.keys():\n",
        "  print(\"{} is the capital of {}:\".format(country_dict[k][0],country_dict[k][1]))"
      ]
    },
    {
      "cell_type": "markdown",
      "metadata": {
        "id": "CedLWSi7lVPC"
      },
      "source": [
        "7. __Save__ the following string in memory: \"US growth rate eases to 1.9% in the third quarter.\""
      ]
    },
    {
      "cell_type": "code",
      "execution_count": null,
      "metadata": {
        "id": "IQ3MNMP9lVPD"
      },
      "outputs": [],
      "source": [
        "my_string = \"US growth rate eases to 1.9% in the third quarter.\""
      ]
    },
    {
      "cell_type": "markdown",
      "metadata": {
        "id": "ARoIMSH8lVPD"
      },
      "source": [
        "8. __Index__ the string for the second last character."
      ]
    },
    {
      "cell_type": "code",
      "execution_count": null,
      "metadata": {
        "colab": {
          "base_uri": "https://localhost:8080/",
          "height": 35
        },
        "outputId": "1f55c343-f806-4720-f30b-b354deeb6f33",
        "id": "o6CNzM95lVPD"
      },
      "outputs": [
        {
          "output_type": "execute_result",
          "data": {
            "text/plain": [
              "'r.'"
            ],
            "application/vnd.google.colaboratory.intrinsic+json": {
              "type": "string"
            }
          },
          "metadata": {},
          "execution_count": 38
        }
      ],
      "source": [
        "my_string[-2:]"
      ]
    },
    {
      "cell_type": "markdown",
      "metadata": {
        "id": "Oq3-wteDlVPE"
      },
      "source": [
        "9. Convert the string to __uppercase__. __Reassign__ your variable!"
      ]
    },
    {
      "cell_type": "code",
      "execution_count": null,
      "metadata": {
        "colab": {
          "base_uri": "https://localhost:8080/",
          "height": 35
        },
        "outputId": "df2aeba6-ac82-4c93-d011-cf7d5a36fd71",
        "id": "rAtypGw7lVPE"
      },
      "outputs": [
        {
          "output_type": "execute_result",
          "data": {
            "text/plain": [
              "'US GROWTH RATE EASES TO 1.9% IN THE THIRD QUARTER.'"
            ],
            "application/vnd.google.colaboratory.intrinsic+json": {
              "type": "string"
            }
          },
          "metadata": {},
          "execution_count": 39
        }
      ],
      "source": [
        "my_string.upper()"
      ]
    },
    {
      "cell_type": "markdown",
      "metadata": {
        "id": "XI2OSDpRlVPE"
      },
      "source": [
        "9. Check whether __a is greater than b__."
      ]
    },
    {
      "cell_type": "code",
      "execution_count": null,
      "metadata": {
        "id": "ECQlIEWblVPE"
      },
      "outputs": [],
      "source": [
        "# run the cell!\n",
        "a = 5**12\n",
        "b = 4564 * 56750"
      ]
    },
    {
      "cell_type": "code",
      "execution_count": null,
      "metadata": {
        "colab": {
          "base_uri": "https://localhost:8080/"
        },
        "outputId": "9168371a-4657-4cff-8063-0d82feaf896a",
        "id": "ytigi2LtlVPE"
      },
      "outputs": [
        {
          "output_type": "execute_result",
          "data": {
            "text/plain": [
              "False"
            ]
          },
          "metadata": {},
          "execution_count": 41
        }
      ],
      "source": [
        "a > b"
      ]
    },
    {
      "cell_type": "markdown",
      "metadata": {
        "id": "xr3QQS0WlVPE"
      },
      "source": [
        "10. Check whether __c is not equal to d__."
      ]
    },
    {
      "cell_type": "code",
      "execution_count": null,
      "metadata": {
        "id": "jrnqK9QllVPE"
      },
      "outputs": [],
      "source": [
        "# run the cell!\n",
        "c = 12**5\n",
        "d = 31104 * 8"
      ]
    },
    {
      "cell_type": "code",
      "execution_count": null,
      "metadata": {
        "colab": {
          "base_uri": "https://localhost:8080/"
        },
        "outputId": "94e16e47-1119-46b3-c573-b91a754428b2",
        "id": "_myVLintlVPE"
      },
      "outputs": [
        {
          "output_type": "execute_result",
          "data": {
            "text/plain": [
              "True"
            ]
          },
          "metadata": {},
          "execution_count": 49
        }
      ],
      "source": [
        "c is not d"
      ]
    },
    {
      "cell_type": "code",
      "execution_count": null,
      "metadata": {
        "colab": {
          "base_uri": "https://localhost:8080/"
        },
        "outputId": "6a9f213d-344f-4627-e6a2-6ecab9c63cec",
        "id": "Xi8jDQ-MlVPE"
      },
      "outputs": [
        {
          "output_type": "execute_result",
          "data": {
            "text/plain": [
              "False"
            ]
          },
          "metadata": {},
          "execution_count": 50
        }
      ],
      "source": [
        "c != d"
      ]
    },
    {
      "cell_type": "markdown",
      "metadata": {
        "id": "S8EewHiBlVPE"
      },
      "source": [
        "We have the following code:"
      ]
    },
    {
      "cell_type": "code",
      "execution_count": null,
      "metadata": {
        "id": "MLPMG6K7lVPE"
      },
      "outputs": [],
      "source": [
        "# run the cell!\n",
        "cf1 = [100, 200]\n",
        "cf2 = cf1\n",
        "cf3 = [100, 200]"
      ]
    },
    {
      "cell_type": "markdown",
      "metadata": {
        "id": "vRbxShpUlVPF"
      },
      "source": [
        "11. Check whether __cf1 and cf2 are equal__."
      ]
    },
    {
      "cell_type": "code",
      "execution_count": null,
      "metadata": {
        "colab": {
          "base_uri": "https://localhost:8080/"
        },
        "outputId": "575ac494-7d12-48d6-ccc8-9440cd998b97",
        "id": "cYrA9TmTlVPF"
      },
      "outputs": [
        {
          "output_type": "execute_result",
          "data": {
            "text/plain": [
              "True"
            ]
          },
          "metadata": {},
          "execution_count": 53
        }
      ],
      "source": [
        "cf1 == cf2"
      ]
    },
    {
      "cell_type": "markdown",
      "metadata": {
        "id": "cAnr2nL-lVPF"
      },
      "source": [
        "12. Check whether __cf3 and cf2__ are referencing to the very __same object__!"
      ]
    },
    {
      "cell_type": "code",
      "execution_count": null,
      "metadata": {
        "colab": {
          "base_uri": "https://localhost:8080/"
        },
        "outputId": "6845d1b0-6bc8-4eee-af95-a9f921055d30",
        "id": "yNCLawjklVPF"
      },
      "outputs": [
        {
          "output_type": "execute_result",
          "data": {
            "text/plain": [
              "False"
            ]
          },
          "metadata": {},
          "execution_count": 63
        }
      ],
      "source": [
        "cf3 is cf2"
      ]
    },
    {
      "cell_type": "markdown",
      "metadata": {
        "id": "RLFCLXdDlVPF"
      },
      "source": [
        "13. Check whether __at least one condition is met__."
      ]
    },
    {
      "cell_type": "code",
      "execution_count": null,
      "metadata": {
        "colab": {
          "base_uri": "https://localhost:8080/"
        },
        "outputId": "08e1b29a-0faa-4e7d-da4b-81663c309f35",
        "id": "J8A_NXnIlVPF"
      },
      "outputs": [
        {
          "output_type": "execute_result",
          "data": {
            "text/plain": [
              "False"
            ]
          },
          "metadata": {},
          "execution_count": 60
        }
      ],
      "source": [
        "# run the cell!\n",
        "condition_1 = 45754 % 3 == 0 #45754 divisible by 3\n",
        "condition_1"
      ]
    },
    {
      "cell_type": "code",
      "execution_count": null,
      "metadata": {
        "colab": {
          "base_uri": "https://localhost:8080/"
        },
        "outputId": "5cff7823-c164-4d0c-872c-8973d792d1ca",
        "id": "foGVwImUlVPF"
      },
      "outputs": [
        {
          "output_type": "execute_result",
          "data": {
            "text/plain": [
              "True"
            ]
          },
          "metadata": {},
          "execution_count": 59
        }
      ],
      "source": [
        "# run the cell!\n",
        "condition_2 = 45754 > 63 * 650 #45754 greater than 63 * 650\n",
        "condition_2"
      ]
    },
    {
      "cell_type": "code",
      "execution_count": null,
      "metadata": {
        "colab": {
          "base_uri": "https://localhost:8080/"
        },
        "outputId": "2c5542de-8c1e-4ed3-a214-edd8667ab17b",
        "id": "Ihk_Nc9PlVPF"
      },
      "outputs": [
        {
          "output_type": "execute_result",
          "data": {
            "text/plain": [
              "True"
            ]
          },
          "metadata": {},
          "execution_count": 61
        }
      ],
      "source": [
        "condition_1 or condition_2"
      ]
    },
    {
      "cell_type": "markdown",
      "metadata": {
        "id": "pz3E5IO5lVPF"
      },
      "source": [
        "14. Check whether __both conditions are met__."
      ]
    },
    {
      "cell_type": "code",
      "execution_count": null,
      "metadata": {
        "id": "BOwZzKYhlVPF"
      },
      "outputs": [],
      "source": [
        "# run the cell!\n",
        "condition_3 = 172578 % 7 == 0 #172578 divisible by 7"
      ]
    },
    {
      "cell_type": "code",
      "execution_count": null,
      "metadata": {
        "id": "wKVugQxLlVPF"
      },
      "outputs": [],
      "source": [
        "# run the cell!\n",
        "condition_4 = 172578 < 43145 * 4 #172578 less than 43145 * 4"
      ]
    },
    {
      "cell_type": "markdown",
      "metadata": {
        "id": "u1pYlRnWlVPG"
      },
      "source": [
        "15. Does the following Code return __True or False__?"
      ]
    },
    {
      "cell_type": "code",
      "execution_count": null,
      "metadata": {
        "colab": {
          "base_uri": "https://localhost:8080/"
        },
        "outputId": "12bb8853-209e-4ba4-eb80-9195f0e815b8",
        "id": "vF8z9snmlVPG"
      },
      "outputs": [
        {
          "output_type": "execute_result",
          "data": {
            "text/plain": [
              "False"
            ]
          },
          "metadata": {},
          "execution_count": 62
        }
      ],
      "source": [
        "# run the cell to check\n",
        "not((4 != 3) or not(type(23) == int))"
      ]
    },
    {
      "cell_type": "markdown",
      "metadata": {
        "id": "N-2SqSnTlVPG"
      },
      "source": [
        "# Well Done!"
      ]
    }
  ]
}