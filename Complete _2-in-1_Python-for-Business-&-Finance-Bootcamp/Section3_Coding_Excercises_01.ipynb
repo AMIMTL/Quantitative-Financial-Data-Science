{
  "nbformat": 4,
  "nbformat_minor": 0,
  "metadata": {
    "colab": {
      "provenance": []
    },
    "kernelspec": {
      "name": "python3",
      "display_name": "Python 3"
    },
    "language_info": {
      "name": "python"
    }
  },
  "cells": [
    {
      "cell_type": "markdown",
      "metadata": {
        "id": "qIK0FTLvYQKL"
      },
      "source": [
        "# Coding Exercises (Part 1)"
      ]
    },
    {
      "cell_type": "markdown",
      "metadata": {
        "id": "dlOriZneYQKM"
      },
      "source": [
        "Now, you will have the opportunity to practice what you have learned. <br>\n",
        "__Follow the instructions__ and insert your code!"
      ]
    },
    {
      "cell_type": "markdown",
      "metadata": {
        "id": "4wZe3a4VYQKM"
      },
      "source": [
        "The correct answer is provided below your coding cell. There you can check whether your code is correct."
      ]
    },
    {
      "cell_type": "markdown",
      "metadata": {
        "id": "39mApUTKYQKN"
      },
      "source": [
        "If you need some help or if you want to check your code, you can also have a look at the __solutions__."
      ]
    },
    {
      "cell_type": "markdown",
      "metadata": {
        "id": "4pIcS3S4YQKN"
      },
      "source": [
        "### Have Fun!"
      ]
    },
    {
      "cell_type": "markdown",
      "metadata": {
        "id": "e5RCQISPYQKN"
      },
      "source": [
        "--------------------------------------------------------------------------------------------------------------"
      ]
    },
    {
      "cell_type": "markdown",
      "metadata": {
        "id": "Ca2Ko3jzYQKO"
      },
      "source": [
        "## Exercise 1: Using Python as a Calculator for TVM Problems"
      ]
    },
    {
      "cell_type": "markdown",
      "metadata": {
        "id": "ol94p_-6YQKO"
      },
      "source": [
        "Use __variables__ where appropriate! __Input__ values and your __final results__ shall be stored in variables."
      ]
    },
    {
      "cell_type": "markdown",
      "metadata": {
        "id": "7CIe_2qZYQKO"
      },
      "source": [
        "1. You save 2,000 USD for 7 years at an interst rate of 4% p.a.. Calculate the value of your account in 7 Years (__Future Value__)!"
      ]
    },
    {
      "cell_type": "code",
      "execution_count": null,
      "metadata": {
        "id": "-i8QX9PtYQKP"
      },
      "outputs": [],
      "source": [
        "# Store Input values in variables\n",
        "pv = 2000 # present value\n",
        "n = 7 # number of years\n",
        "r = 0.04 # interest rate\n"
      ]
    },
    {
      "cell_type": "code",
      "execution_count": null,
      "metadata": {
        "id": "yu68w-LMYQKP"
      },
      "outputs": [],
      "source": [
        "# Calculate and store the future value in a variable\n",
        "fv = pv * (1+r)**n # future value"
      ]
    },
    {
      "cell_type": "code",
      "execution_count": null,
      "metadata": {
        "colab": {
          "base_uri": "https://localhost:8080/"
        },
        "id": "LKKbtwEOYQKP",
        "outputId": "b875575f-b163-4f67-f357-026340657952"
      },
      "outputs": [
        {
          "output_type": "stream",
          "name": "stdout",
          "text": [
            "2631.86\n"
          ]
        }
      ],
      "source": [
        "# print the future value\n",
        "print(round(fv,2))"
      ]
    },
    {
      "cell_type": "markdown",
      "metadata": {
        "id": "Tn2OevhlYQKQ"
      },
      "source": [
        "(result: 2631.86 USD)"
      ]
    },
    {
      "cell_type": "markdown",
      "metadata": {
        "id": "CcdHz9GjYQKQ"
      },
      "source": [
        "2. You consider to purchase a car in 4 years for 20,000 USD. How many USD do you have to save today (__Present Value__) in your savings account to have 20,000 USD in 4 years? Assume an interst rate of 3.5% p.a."
      ]
    },
    {
      "cell_type": "code",
      "execution_count": null,
      "metadata": {
        "id": "Ciusn0fYYQKQ"
      },
      "outputs": [],
      "source": [
        "# Store Input values in variables\n",
        "fv = 20000 # car price\n",
        "n = 4 # number of years\n",
        "r = 0.035 # interest rate"
      ]
    },
    {
      "cell_type": "code",
      "execution_count": null,
      "metadata": {
        "id": "p99c1JLbYQKQ"
      },
      "outputs": [],
      "source": [
        "# Calculate and store the present value in a variable\n",
        "pv = fv / ((1+r)**n)"
      ]
    },
    {
      "cell_type": "code",
      "execution_count": null,
      "metadata": {
        "colab": {
          "base_uri": "https://localhost:8080/"
        },
        "id": "EQeLauFzYQKQ",
        "outputId": "5922fe36-07e7-4afd-e661-636067cdac46"
      },
      "outputs": [
        {
          "output_type": "stream",
          "name": "stdout",
          "text": [
            "17428.84\n"
          ]
        }
      ],
      "source": [
        "# print the present value\n",
        "print(round(pv,2))"
      ]
    },
    {
      "cell_type": "markdown",
      "metadata": {
        "id": "YO3hra3aYQKR"
      },
      "source": [
        "(result: 17,428.84 USD)"
      ]
    },
    {
      "cell_type": "markdown",
      "metadata": {
        "id": "pO-TFUmtYQKR"
      },
      "source": [
        "3. Bank B offers you to save 10,000 USD today, getting back 15,000 USD in 10 Years. Calculate the __per annum compound interest rate__. Bank A offers you an interest rate of 4.5% p.a.. Which offer should you accept?"
      ]
    },
    {
      "cell_type": "code",
      "execution_count": null,
      "metadata": {
        "id": "ITLNk4Q9YQKR"
      },
      "outputs": [],
      "source": [
        "pv = 10000\n",
        "fv = 15000\n",
        "n  = 10\n",
        "r_A = 0.045 # interest rate of the bank A"
      ]
    },
    {
      "cell_type": "code",
      "source": [
        "r_B = (fv/pv)**(1/n) - 1"
      ],
      "metadata": {
        "id": "wcS1SweQZYVH"
      },
      "execution_count": null,
      "outputs": []
    },
    {
      "cell_type": "code",
      "execution_count": null,
      "metadata": {
        "colab": {
          "base_uri": "https://localhost:8080/"
        },
        "id": "syvvb-QAYQKR",
        "outputId": "94d76f8a-b7d3-461c-e5fa-b64516969aaf"
      },
      "outputs": [
        {
          "output_type": "stream",
          "name": "stdout",
          "text": [
            "4.14\n"
          ]
        }
      ],
      "source": [
        "print(round(r_B*100,2))"
      ]
    },
    {
      "cell_type": "markdown",
      "metadata": {
        "id": "ITjxXKqqYQKS"
      },
      "source": [
        "(result: 4.14%)"
      ]
    },
    {
      "cell_type": "markdown",
      "source": [
        "* Which offer should you accept?: Bank A offers the better interest rate."
      ],
      "metadata": {
        "id": "vgXNfIXFaCf3"
      }
    },
    {
      "cell_type": "markdown",
      "metadata": {
        "id": "BMyxJ48UYQKS"
      },
      "source": [
        "4. One year ago you invested 976 USD in the ABC stock. Recently you received a 40 USD Dividend Payment and the current value of your ABC stock investment is 1,053 USD. Calculate the __Price Return__!"
      ]
    },
    {
      "cell_type": "code",
      "execution_count": null,
      "metadata": {
        "id": "Ck6XP3r3YQKS"
      },
      "outputs": [],
      "source": [
        "p0 = 976\n",
        "dividend = 40\n",
        "p1 = 1053\n",
        "stock_ret = (p1/p0) - 1\n",
        "stock_ret = round(stock_ret*100,2)"
      ]
    },
    {
      "cell_type": "code",
      "source": [
        "print(stock_ret)"
      ],
      "metadata": {
        "colab": {
          "base_uri": "https://localhost:8080/"
        },
        "id": "OmEiz_NMeATF",
        "outputId": "09c3fedb-dc8b-467c-a29c-9f9c7d615021"
      },
      "execution_count": null,
      "outputs": [
        {
          "output_type": "stream",
          "name": "stdout",
          "text": [
            "7.89\n"
          ]
        }
      ]
    },
    {
      "cell_type": "markdown",
      "metadata": {
        "id": "Kl8o1QsjYQKS"
      },
      "source": [
        "(result: 7.89%)"
      ]
    },
    {
      "cell_type": "markdown",
      "metadata": {
        "id": "MfYzaiudYQKS"
      },
      "source": [
        "5. Calculate __Dividend Yield__ and __Total Return__ for your ABC stock investment!"
      ]
    },
    {
      "cell_type": "code",
      "execution_count": null,
      "metadata": {
        "id": "6q0OTrpeYQKS"
      },
      "outputs": [],
      "source": [
        "dividend_yield = dividend / p0\n",
        "dividend_yield = round(dividend_yield*100 ,2)"
      ]
    },
    {
      "cell_type": "code",
      "execution_count": null,
      "metadata": {
        "colab": {
          "base_uri": "https://localhost:8080/"
        },
        "id": "CBj_u0AZYQKS",
        "outputId": "478936ac-bebc-4348-c412-936e3364eed3"
      },
      "outputs": [
        {
          "output_type": "stream",
          "name": "stdout",
          "text": [
            "4.1\n"
          ]
        }
      ],
      "source": [
        "print(dividend_yield)"
      ]
    },
    {
      "cell_type": "code",
      "execution_count": null,
      "metadata": {
        "id": "xsz1GNhIYQKS"
      },
      "outputs": [],
      "source": [
        "total_ret = stock_ret + dividend_yield\n",
        "total_ret =  round(total_ret,2)"
      ]
    },
    {
      "cell_type": "code",
      "execution_count": null,
      "metadata": {
        "colab": {
          "base_uri": "https://localhost:8080/"
        },
        "id": "rYkbV5xSYQKS",
        "outputId": "1a259e4b-ad58-4d2f-d66f-6d7053f1facc"
      },
      "outputs": [
        {
          "output_type": "stream",
          "name": "stdout",
          "text": [
            "11.99\n"
          ]
        }
      ],
      "source": [
        "print(total_ret)"
      ]
    },
    {
      "cell_type": "markdown",
      "metadata": {
        "id": "7kTG7SgVYQKT"
      },
      "source": [
        "(results: 4.10% and 11.99%)"
      ]
    },
    {
      "cell_type": "markdown",
      "metadata": {
        "id": "onF-aY7HYQKW"
      },
      "source": [
        "6. Print Price Return, Dividend Yield and Total Return in one single line, __separated by commas__!"
      ]
    },
    {
      "cell_type": "code",
      "execution_count": null,
      "metadata": {
        "colab": {
          "base_uri": "https://localhost:8080/"
        },
        "id": "6ijUHI4lYQKW",
        "outputId": "b090940c-fb4e-4fe3-cd23-6990273422a4"
      },
      "outputs": [
        {
          "output_type": "stream",
          "name": "stdout",
          "text": [
            "Price Return: 7.89, Dividend Yield : 4.1 , Total Return: 11.99\n"
          ]
        }
      ],
      "source": [
        "print(f\"Price Return: {ret}, Dividend Yield : {dividend_yield} , Total Return: {total_ret}\")"
      ]
    },
    {
      "cell_type": "markdown",
      "metadata": {
        "id": "uUIZ0DyGYQKW"
      },
      "source": [
        "# Well Done!"
      ]
    },
    {
      "cell_type": "markdown",
      "metadata": {
        "id": "8twzuJPyYQKW"
      },
      "source": [
        "---------------------------------------------------------------------------------------------------------------------"
      ]
    }
  ]
}