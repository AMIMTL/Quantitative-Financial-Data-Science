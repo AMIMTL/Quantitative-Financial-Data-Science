{
  "nbformat": 4,
  "nbformat_minor": 0,
  "metadata": {
    "colab": {
      "provenance": []
    },
    "kernelspec": {
      "name": "python3",
      "display_name": "Python 3"
    },
    "language_info": {
      "name": "python"
    }
  },
  "cells": [
    {
      "cell_type": "code",
      "execution_count": null,
      "metadata": {
        "id": "vU-ZumETMFv2"
      },
      "outputs": [],
      "source": []
    },
    {
      "cell_type": "markdown",
      "metadata": {
        "id": "-vQ19DR26f9J"
      },
      "source": [
        "# Coding Exercises (Part 1)"
      ]
    },
    {
      "cell_type": "markdown",
      "metadata": {
        "id": "p41qqw6I6f9K"
      },
      "source": [
        "Now, you will have the opportunity to practice what you have learned. <br>\n",
        "__Follow the instructions__ and insert your code!"
      ]
    },
    {
      "cell_type": "markdown",
      "metadata": {
        "id": "04ckxwhv6f9K"
      },
      "source": [
        "The correct answer is provided below your coding cell. There you can check whether your code is correct."
      ]
    },
    {
      "cell_type": "markdown",
      "metadata": {
        "id": "r3kBGkbA6f9L"
      },
      "source": [
        "If you need some help or if you want to check your code, you can also have a look at the __solutions__."
      ]
    },
    {
      "cell_type": "markdown",
      "metadata": {
        "id": "VKOFlD4A6f9L"
      },
      "source": [
        "### Have Fun!"
      ]
    },
    {
      "cell_type": "markdown",
      "metadata": {
        "id": "GJiyYVMD6f9L"
      },
      "source": [
        "--------------------------------------------------------------------------------------------------------------"
      ]
    },
    {
      "cell_type": "markdown",
      "metadata": {
        "id": "dDbduZAo6f9L"
      },
      "source": [
        "## Exercise 5: While Loops, Conditional Statements, IRR and YTM"
      ]
    },
    {
      "cell_type": "markdown",
      "metadata": {
        "id": "kUA1vb6u6f9M"
      },
      "source": [
        "The ABC Company has a mature project with declining revenues and increasing costs. Net Cashflows are projected as follows:\n",
        "\n",
        "- 500 in year 1,\n",
        "- 350 in year 2,\n",
        "- 200 in year 3,\n",
        "- 50 in year 4,\n",
        "- -100 in year 5,\n",
        "- -200 in year 6"
      ]
    },
    {
      "cell_type": "markdown",
      "metadata": {
        "id": "_iz8Y4Eh6f9M"
      },
      "source": [
        "1. Separate __positive__ and __negative__ cashflows. __Create two new lists__!"
      ]
    },
    {
      "cell_type": "code",
      "execution_count": null,
      "metadata": {
        "id": "W7oU4EtD6f9M"
      },
      "outputs": [],
      "source": [
        "#run the cell\n",
        "cf = [500, 350, 200, 50, -100, -200]"
      ]
    },
    {
      "cell_type": "code",
      "execution_count": null,
      "metadata": {
        "colab": {
          "base_uri": "https://localhost:8080/"
        },
        "id": "NZM4b_3q6f9N",
        "outputId": "ab402c88-0f26-4c1d-a070-ce4a79234c9e"
      },
      "outputs": [
        {
          "output_type": "stream",
          "name": "stdout",
          "text": [
            "cf_pos: [500, 350, 200, 50] , cf_neg: [-100, -200]\n"
          ]
        }
      ],
      "source": [
        "cf_pos =[]\n",
        "cf_neg =[]\n",
        "\n",
        "for i in cf: #complete the code!\n",
        "  if i < 0:\n",
        "    cf_neg.append(i)\n",
        "  else:\n",
        "    cf_pos.append(i)\n",
        "print(\"cf_pos: {} , cf_neg: {}\".format(cf_pos , cf_neg))"
      ]
    },
    {
      "cell_type": "markdown",
      "metadata": {
        "id": "e1lAClqF6f9N"
      },
      "source": [
        "2. Get the __first unprofitable year__. Your Code should return the statement __\"Year ... is the first unprofitable Year!\"__"
      ]
    },
    {
      "cell_type": "code",
      "execution_count": null,
      "metadata": {
        "colab": {
          "base_uri": "https://localhost:8080/"
        },
        "id": "lGWmGI916f9N",
        "outputId": "72876ab3-a5f8-46e5-e3bd-8fbd26c14df0"
      },
      "outputs": [
        {
          "output_type": "stream",
          "name": "stdout",
          "text": [
            "Year 5 is the first unprofitable Year!\n"
          ]
        }
      ],
      "source": [
        "count_year = 0\n",
        "for idx , i in enumerate(cf):\n",
        "  if count_year < 1:\n",
        "    if i < 0:\n",
        "      count_year += 1\n",
        "      print(\"Year {} is the first unprofitable Year!\".format(idx+1))\n",
        "  else:\n",
        "    break\n"
      ]
    },
    {
      "cell_type": "markdown",
      "metadata": {
        "id": "emsb4Xze6f9N"
      },
      "source": [
        "3. Get the __last profitable year__. Your Code should return the statement __\"Year ... is the last profitable Year!\"__"
      ]
    },
    {
      "cell_type": "code",
      "source": [
        "for idx,i in enumerate(cf):\n",
        "  print(idx,i)"
      ],
      "metadata": {
        "colab": {
          "base_uri": "https://localhost:8080/"
        },
        "id": "QQAqGfhB_f-F",
        "outputId": "0b6321b7-1079-42f3-e1d8-99da8b35a80d"
      },
      "execution_count": null,
      "outputs": [
        {
          "output_type": "stream",
          "name": "stdout",
          "text": [
            "0 500\n",
            "1 350\n",
            "2 200\n",
            "3 50\n",
            "4 -100\n",
            "5 -200\n"
          ]
        }
      ]
    },
    {
      "cell_type": "code",
      "execution_count": null,
      "metadata": {
        "colab": {
          "base_uri": "https://localhost:8080/"
        },
        "id": "PDrQUD_b6f9N",
        "outputId": "84fbcba2-9a16-4935-e59b-78f41bdeaa40"
      },
      "outputs": [
        {
          "output_type": "stream",
          "name": "stdout",
          "text": [
            "Year 4 is the last profitable Year!\n"
          ]
        }
      ],
      "source": [
        "for idx , i in enumerate(cf):\n",
        "  if i > 0:\n",
        "    continue\n",
        "  else:\n",
        "    print(\"Year {} is the last profitable Year!\".format(idx))\n",
        "    break"
      ]
    },
    {
      "cell_type": "markdown",
      "metadata": {
        "id": "eU6_pkS36f9N"
      },
      "source": [
        "The __modulo operator %__ returns the __remainder__ of the division between two numbers. For instance, 5 % 3 returns 2."
      ]
    },
    {
      "cell_type": "code",
      "execution_count": null,
      "metadata": {
        "colab": {
          "base_uri": "https://localhost:8080/"
        },
        "id": "ADpec5Cu6f9O",
        "outputId": "60060ad3-d6d4-4e7b-e771-98337db511cc"
      },
      "outputs": [
        {
          "output_type": "execute_result",
          "data": {
            "text/plain": [
              "2"
            ]
          },
          "metadata": {},
          "execution_count": 39
        }
      ],
      "source": [
        "# run the cell\n",
        "5 % 3"
      ]
    },
    {
      "cell_type": "code",
      "execution_count": null,
      "metadata": {
        "colab": {
          "base_uri": "https://localhost:8080/"
        },
        "id": "R-aZdx9A6f9O",
        "outputId": "36a2cb7f-1266-416f-ee38-6eccd039df6b"
      },
      "outputs": [
        {
          "output_type": "execute_result",
          "data": {
            "text/plain": [
              "4"
            ]
          },
          "metadata": {},
          "execution_count": 40
        }
      ],
      "source": [
        "# run the cell\n",
        "14 % 5"
      ]
    },
    {
      "cell_type": "markdown",
      "metadata": {
        "id": "ln6Sw-yM6f9O"
      },
      "source": [
        "If a is divisible by b __without remainder__, a % b __returns 0__."
      ]
    },
    {
      "cell_type": "code",
      "execution_count": null,
      "metadata": {
        "colab": {
          "base_uri": "https://localhost:8080/"
        },
        "id": "Wm0BEJ2n6f9O",
        "outputId": "bae65c9d-1917-4c0d-f310-3e52c5c858a4"
      },
      "outputs": [
        {
          "output_type": "execute_result",
          "data": {
            "text/plain": [
              "0"
            ]
          },
          "metadata": {},
          "execution_count": 41
        }
      ],
      "source": [
        "# run the cell\n",
        "a = 9\n",
        "b = 3\n",
        "a % b"
      ]
    },
    {
      "cell_type": "markdown",
      "metadata": {
        "id": "QZiyzkIU6f9O"
      },
      "source": [
        "4. Return the __first number n__ that is __divisible by 362 and 216__ (without remainder).<br>\n",
        "Your code shall return the following statement: __\"... is the first number divisible by 362 and 216!\"__"
      ]
    },
    {
      "cell_type": "code",
      "execution_count": null,
      "metadata": {
        "colab": {
          "base_uri": "https://localhost:8080/"
        },
        "id": "vvnOzpS26f9O",
        "outputId": "433dfd99-bafd-4798-fc96-0c32abde0434"
      },
      "outputs": [
        {
          "output_type": "stream",
          "name": "stdout",
          "text": [
            "39096 is the first number divisible by 362 and 216!\n"
          ]
        }
      ],
      "source": [
        "a = 362\n",
        "b = 216\n",
        "\n",
        "n = 1\n",
        "while True: #complete the code!\n",
        "  if  (n % a == 0) and (n % b == 0):\n",
        "    print(\"{} is the first number divisible by 362 and 216!\".format(n))\n",
        "    break\n",
        "  else:\n",
        "    n += 1"
      ]
    },
    {
      "cell_type": "markdown",
      "metadata": {
        "id": "IdRf8vpa6f9O"
      },
      "source": [
        "(result: 39096)"
      ]
    },
    {
      "cell_type": "markdown",
      "metadata": {
        "id": "7gy7HXTB6f9O"
      },
      "source": [
        "The ABC Company evaluates to buy an additional machine that will increase profits/cashflows by\n",
        "- 50 USD in year 1,\n",
        "- 75 USD in year 2 ,\n",
        "- 100 USD in year 3,\n",
        "- 150 USD in year 4,\n",
        "- 125 USD in year 5. (each cf at period´s end)\n",
        "\n",
        "The machine costs 450 USD (Investment in to)."
      ]
    },
    {
      "cell_type": "markdown",
      "metadata": {
        "id": "8aAu4csw6f9O"
      },
      "source": [
        "5. Calculate the __Project´s IRR__ and evaluate whether ABC should pursue the project. ABCs required rate of return is 6% p.a."
      ]
    },
    {
      "cell_type": "code",
      "execution_count": null,
      "metadata": {
        "id": "w3xNbQBv6f9O"
      },
      "outputs": [],
      "source": [
        "cf = [ 50, 75, 100, 150, 125]"
      ]
    },
    {
      "cell_type": "code",
      "execution_count": null,
      "metadata": {
        "id": "Bp4qgpl56f9O"
      },
      "outputs": [],
      "source": [
        "NPV = - 450"
      ]
    },
    {
      "cell_type": "code",
      "source": [
        "r = 0.06 # required rate of return"
      ],
      "metadata": {
        "id": "NVTssPkwCmiF"
      },
      "execution_count": null,
      "outputs": []
    },
    {
      "cell_type": "code",
      "source": [
        "cf.insert(0,NPV)\n",
        "cf"
      ],
      "metadata": {
        "colab": {
          "base_uri": "https://localhost:8080/"
        },
        "id": "WMuZvQtkFbZT",
        "outputId": "c50605b5-1a3c-4b34-ac5b-2369ecdb7cc5"
      },
      "execution_count": null,
      "outputs": [
        {
          "output_type": "execute_result",
          "data": {
            "text/plain": [
              "[-450, 50, 75, 100, 150, 125]"
            ]
          },
          "metadata": {},
          "execution_count": 63
        }
      ]
    },
    {
      "cell_type": "code",
      "source": [
        "guess_rate = 0.06\n",
        "step = 0.0000001\n",
        "target_npv = 0\n",
        "tolerance = 0.001\n",
        "\n",
        "while True:\n",
        "  f = 1 + guess_rate\n",
        "  NPV = 0\n",
        "  for i in range(len(cf)):\n",
        "    NPV += cf[i] / (f**i)\n",
        "    diff = NPV - target_npv\n",
        "\n",
        "  if abs(diff) > tolerance:\n",
        "    if NPV < 0:\n",
        "      guess_rate -= step\n",
        "    else:\n",
        "      guess_rate += step\n",
        "  else:\n",
        "    break\n",
        "print(NPV, guess_rate)\n",
        "print(\"The current YTM for XYZ´s Corporate Bond is {}%!\".format(round(guess_rate,4) * 100))"
      ],
      "metadata": {
        "colab": {
          "base_uri": "https://localhost:8080/"
        },
        "id": "XXGA284RCmqk",
        "outputId": "b74c0f80-9994-4553-c539-74f0d1c1f02c"
      },
      "execution_count": null,
      "outputs": [
        {
          "output_type": "stream",
          "name": "stdout",
          "text": [
            "-0.000875240507625108 0.031245399999173303\n",
            "The current YTM for XYZ´s Corporate Bond is 3.1199999999999997%!\n"
          ]
        }
      ]
    },
    {
      "cell_type": "markdown",
      "metadata": {
        "id": "nAd4kf7m6f9O"
      },
      "source": [
        "(result: 3.12%)"
      ]
    },
    {
      "cell_type": "markdown",
      "metadata": {
        "id": "VQNVloRu6f9P"
      },
      "source": [
        "5. Would your __decision change__ if you can increse year 5 cashflows from __125 to 175__?"
      ]
    },
    {
      "cell_type": "code",
      "execution_count": null,
      "metadata": {
        "colab": {
          "base_uri": "https://localhost:8080/"
        },
        "id": "u83A6PQ96f9P",
        "outputId": "f5e03c26-ab0f-4960-95c7-60b3ceb2b2e3"
      },
      "outputs": [
        {
          "output_type": "execute_result",
          "data": {
            "text/plain": [
              "[-450, 50, 75, 100, 150, 175]"
            ]
          },
          "metadata": {},
          "execution_count": 72
        }
      ],
      "source": [
        "cf[-1] = 175\n",
        "cf"
      ]
    },
    {
      "cell_type": "code",
      "execution_count": null,
      "metadata": {
        "scrolled": true,
        "colab": {
          "base_uri": "https://localhost:8080/"
        },
        "id": "NDXzrm2r6f9P",
        "outputId": "96e09bfd-0840-4f86-a530-1b01c8c21da8"
      },
      "outputs": [
        {
          "output_type": "stream",
          "name": "stdout",
          "text": [
            "-0.0009649624460621453 0.05828739999995075\n",
            "The current YTM for XYZ´s Corporate Bond is 5.83%!\n"
          ]
        }
      ],
      "source": [
        "guess_rate = 0.06\n",
        "step = 0.0000001\n",
        "target_npv = 0\n",
        "tolerance = 0.001\n",
        "\n",
        "while True:\n",
        "  f = 1 + guess_rate\n",
        "  NPV = 0\n",
        "  for i in range(len(cf)):\n",
        "    NPV += cf[i] / (f**i)\n",
        "    diff = NPV - target_npv\n",
        "\n",
        "  if abs(diff) > tolerance:\n",
        "    if NPV < 0:\n",
        "      guess_rate -= step\n",
        "    else:\n",
        "      guess_rate += step\n",
        "  else:\n",
        "    break\n",
        "print(NPV, guess_rate)\n",
        "print(\"The current YTM for XYZ´s Corporate Bond is {}%!\".format(round(guess_rate,4) * 100))"
      ]
    },
    {
      "cell_type": "markdown",
      "metadata": {
        "id": "5b1keaHP6f9P"
      },
      "source": [
        "5. Would your __decision change__ if you can increse year 5 cashflows from __125 to 175__?\n",
        "No, because the IRR is less than %6"
      ]
    },
    {
      "cell_type": "markdown",
      "source": [
        "--------------------------------------------------------------------------"
      ],
      "metadata": {
        "id": "ixT9fTtNGnVk"
      }
    },
    {
      "cell_type": "markdown",
      "metadata": {
        "id": "IigxL1qj6f9P"
      },
      "source": [
        "6. The ABC Government issued a 30Y Government Bond one year ago with a Coupon Rate of 5.5% (annual payments in arrears). Today´s Bond Price is 97.2 (per 100 par Value). Calculate the Bond´s __current YTM__."
      ]
    },
    {
      "cell_type": "code",
      "execution_count": null,
      "metadata": {
        "id": "w_m_7aSj6f9P"
      },
      "outputs": [],
      "source": [
        "cf = [5.5] *29\n",
        "cf[-1] += cf[-1] + 100"
      ]
    },
    {
      "cell_type": "code",
      "source": [
        "cf.insert(0,-97.2)"
      ],
      "metadata": {
        "id": "m8sTqG7sG6Lz"
      },
      "execution_count": null,
      "outputs": []
    },
    {
      "cell_type": "code",
      "execution_count": null,
      "metadata": {
        "colab": {
          "base_uri": "https://localhost:8080/"
        },
        "id": "N3o3_htZ6f9S",
        "outputId": "8807c2fd-b375-4835-875d-173300f6924e"
      },
      "outputs": [
        {
          "output_type": "execute_result",
          "data": {
            "text/plain": [
              "[-97.2,\n",
              " 5.5,\n",
              " 5.5,\n",
              " 5.5,\n",
              " 5.5,\n",
              " 5.5,\n",
              " 5.5,\n",
              " 5.5,\n",
              " 5.5,\n",
              " 5.5,\n",
              " 5.5,\n",
              " 5.5,\n",
              " 5.5,\n",
              " 5.5,\n",
              " 5.5,\n",
              " 5.5,\n",
              " 5.5,\n",
              " 5.5,\n",
              " 5.5,\n",
              " 5.5,\n",
              " 5.5,\n",
              " 5.5,\n",
              " 5.5,\n",
              " 5.5,\n",
              " 5.5,\n",
              " 5.5,\n",
              " 5.5,\n",
              " 5.5,\n",
              " 5.5,\n",
              " 111.0]"
            ]
          },
          "metadata": {},
          "execution_count": 90
        }
      ],
      "source": [
        "cf"
      ]
    },
    {
      "cell_type": "code",
      "source": [
        "guess_rate = 0.055\n",
        "step = 0.0000001\n",
        "target_npv = 0\n",
        "tolerance = 0.001\n",
        "\n",
        "while True:\n",
        "  f = 1 + guess_rate\n",
        "  NPV = 0\n",
        "  for i in range(len(cf)):\n",
        "    NPV += cf[i] / (f**i)\n",
        "    diff = NPV - target_npv\n",
        "\n",
        "  if abs(diff) > tolerance:\n",
        "    if NPV < 0:\n",
        "      guess_rate -= step\n",
        "    else:\n",
        "      guess_rate += step\n",
        "  else:\n",
        "    break\n",
        "print(NPV, guess_rate)\n",
        "print(\"The current YTM for XYZ´s Corporate Bond is {}%!\".format(round(guess_rate, 3) * 100))"
      ],
      "metadata": {
        "colab": {
          "base_uri": "https://localhost:8080/"
        },
        "id": "qCR3ETORK7Qz",
        "outputId": "8be65a3b-f41b-4518-f4a4-78c210b594b2"
      },
      "execution_count": null,
      "outputs": [
        {
          "output_type": "stream",
          "name": "stdout",
          "text": [
            "0.0008978695206032228 0.05778730000008015\n",
            "The current YTM for XYZ´s Corporate Bond is 5.800000000000001%!\n"
          ]
        }
      ]
    },
    {
      "cell_type": "code",
      "execution_count": null,
      "metadata": {
        "id": "BDHsptKb6f9S"
      },
      "outputs": [],
      "source": []
    },
    {
      "cell_type": "markdown",
      "metadata": {
        "id": "pC_VEvyD6f9S"
      },
      "source": [
        "(result: 5.70%)"
      ]
    },
    {
      "cell_type": "markdown",
      "metadata": {
        "id": "exxFmRdT6f9T"
      },
      "source": [
        "# Well Done!"
      ]
    },
    {
      "cell_type": "markdown",
      "metadata": {
        "id": "wHzLKHOx6f9T"
      },
      "source": [
        "---------------------------------------------------------------------------------------------------------------------"
      ]
    }
  ]
}