{
  "cells": [
    {
      "cell_type": "markdown",
      "metadata": {
        "id": "V9ANX0-4Z3Nq"
      },
      "source": [
        "# Coding Exercises (Part 1)"
      ]
    },
    {
      "cell_type": "markdown",
      "metadata": {
        "id": "-WbehTbQZ3Nt"
      },
      "source": [
        "Now, you will have the opportunity to practice what you have learned. <br>\n",
        "__Follow the instructions__ and insert your code!"
      ]
    },
    {
      "cell_type": "markdown",
      "metadata": {
        "id": "vZOLuWFhZ3Nt"
      },
      "source": [
        "The correct answer is provided below your coding cell. There you can check whether your code is correct."
      ]
    },
    {
      "cell_type": "markdown",
      "metadata": {
        "id": "kopFJ-ZgZ3Nt"
      },
      "source": [
        "If you need some help or if you want to check your code, you can also have a look at the __solutions__."
      ]
    },
    {
      "cell_type": "markdown",
      "metadata": {
        "id": "utguo_DyZ3Nu"
      },
      "source": [
        "### Have Fun!"
      ]
    },
    {
      "cell_type": "markdown",
      "metadata": {
        "id": "rg7hbRyrZ3Nu"
      },
      "source": [
        "--------------------------------------------------------------------------------------------------------------"
      ]
    },
    {
      "cell_type": "markdown",
      "metadata": {
        "id": "Oto1CLlwZ3Nu"
      },
      "source": [
        "## Exercise 7: The Numpy Package: Working with numbers made easy!"
      ]
    },
    {
      "cell_type": "markdown",
      "metadata": {
        "id": "tSdgWmXhZ3Nu"
      },
      "source": [
        "1. Import Numpy!"
      ]
    },
    {
      "cell_type": "code",
      "execution_count": 8,
      "metadata": {
        "id": "J5nW5g2KZ3Nu"
      },
      "outputs": [],
      "source": [
        "import numpy as np"
      ]
    },
    {
      "cell_type": "code",
      "execution_count": null,
      "metadata": {
        "id": "0b1DihH7Z3Nv"
      },
      "outputs": [],
      "source": []
    },
    {
      "cell_type": "markdown",
      "metadata": {
        "id": "JBoTKSlkZ3Nv"
      },
      "source": [
        "2. You have the following stock Prices in EUR Currency : [23.65, 43.21, 73.01, 87.32]<br>\n",
        "\n",
        "Create a __Numpy array__ and __convert all prices__ to USD Currency @ an fx rate of __1.2__ (1.2 USD per 1 EUR)."
      ]
    },
    {
      "cell_type": "code",
      "execution_count": 9,
      "metadata": {
        "id": "h3enJOYFZ3Nv"
      },
      "outputs": [],
      "source": [
        "price_usd = np.array([23.65, 43.21, 73.01, 87.32])\n",
        "price_eu = price_usd * 1.2"
      ]
    },
    {
      "cell_type": "code",
      "execution_count": 10,
      "metadata": {
        "id": "tWz8_EQ-Z3Nv",
        "colab": {
          "base_uri": "https://localhost:8080/"
        },
        "outputId": "c75d9549-ae48-4792-c9f9-40faaa7fe2ce"
      },
      "outputs": [
        {
          "output_type": "execute_result",
          "data": {
            "text/plain": [
              "array([ 28.38 ,  51.852,  87.612, 104.784])"
            ]
          },
          "metadata": {},
          "execution_count": 10
        }
      ],
      "source": [
        "price_eu"
      ]
    },
    {
      "cell_type": "markdown",
      "metadata": {
        "id": "EXX-JCDDZ3Nv"
      },
      "source": [
        "(result: array([ 28.38 ,  51.852,  87.612, 104.784])"
      ]
    },
    {
      "cell_type": "code",
      "execution_count": null,
      "metadata": {
        "id": "jj5OVT0pZ3Nw"
      },
      "outputs": [],
      "source": []
    },
    {
      "cell_type": "markdown",
      "metadata": {
        "id": "i0rejNtcZ3Nw"
      },
      "source": [
        "You have the\n",
        "- end-of-2017 stock prices for four companies: [33.65, 63.21, 53.01, 17.32]\n",
        "- end-of-2018 stock prices for the same companies: [36.54, 61.59, 60.31, 10.40]"
      ]
    },
    {
      "cell_type": "markdown",
      "metadata": {
        "id": "RseEBAmYZ3Nw"
      },
      "source": [
        "3. Calculate the __absolute__ price increase / decrease in 2018 __for all four companies__. Use __vectorized__ numpy code!"
      ]
    },
    {
      "cell_type": "code",
      "execution_count": 11,
      "metadata": {
        "id": "HXJbQzFwZ3Nw"
      },
      "outputs": [],
      "source": [
        "price_end_2017 = np.array([33.65, 63.21, 53.01, 17.32])\n",
        "price_end_2018 = np.array([36.54, 61.59, 60.31, 10.40])"
      ]
    },
    {
      "cell_type": "code",
      "execution_count": null,
      "metadata": {
        "id": "D2rhDc2xZ3Nw"
      },
      "outputs": [],
      "source": []
    },
    {
      "cell_type": "code",
      "execution_count": null,
      "metadata": {
        "id": "TnHnQnx_Z3Nw"
      },
      "outputs": [],
      "source": []
    },
    {
      "cell_type": "markdown",
      "metadata": {
        "id": "91o-GdaRZ3Nw"
      },
      "source": [
        "4. Calculate the __price return__ in 2018 __for all four companies__. Use __vectorized__ numpy code!"
      ]
    },
    {
      "cell_type": "code",
      "execution_count": 12,
      "metadata": {
        "id": "ztbVoYAxZ3Nw",
        "colab": {
          "base_uri": "https://localhost:8080/"
        },
        "outputId": "4aeeebc0-4e1e-4e6a-9fd7-f58467fc6e9d"
      },
      "outputs": [
        {
          "output_type": "execute_result",
          "data": {
            "text/plain": [
              "array([ 0.0858841 , -0.02562886,  0.13770987, -0.39953811])"
            ]
          },
          "metadata": {},
          "execution_count": 12
        }
      ],
      "source": [
        "ret = (price_end_2018 / price_end_2017) - 1\n",
        "ret"
      ]
    },
    {
      "cell_type": "code",
      "execution_count": null,
      "metadata": {
        "id": "cxDGsf0hZ3Nw"
      },
      "outputs": [],
      "source": []
    },
    {
      "cell_type": "markdown",
      "metadata": {
        "id": "QkHCnH9nZ3Nw"
      },
      "source": [
        "You have the following list with cashflows (starting today at t0): [-500, -100, 200, 600, 1000, 800]"
      ]
    },
    {
      "cell_type": "code",
      "execution_count": 13,
      "metadata": {
        "id": "TMPvbCncZ3Nw"
      },
      "outputs": [],
      "source": [
        "#run the cell!\n",
        "l  = [-500, -100, 200, 600, 1000, 800]"
      ]
    },
    {
      "cell_type": "markdown",
      "metadata": {
        "id": "olOGN62jZ3Nx"
      },
      "source": [
        "5. Convert l into a __numpy array__ and __save__ the array in memory! __Select__ the __second cashflow__ at t1."
      ]
    },
    {
      "cell_type": "code",
      "execution_count": 14,
      "metadata": {
        "id": "ktzzZm6iZ3Nx"
      },
      "outputs": [],
      "source": [
        "cf_array = np.array(l)"
      ]
    },
    {
      "cell_type": "code",
      "source": [
        "cf_array[1]"
      ],
      "metadata": {
        "colab": {
          "base_uri": "https://localhost:8080/"
        },
        "id": "YLYamDvhdIXl",
        "outputId": "2751cc8b-b49b-4e90-d7f2-dd45d61028cc"
      },
      "execution_count": 15,
      "outputs": [
        {
          "output_type": "execute_result",
          "data": {
            "text/plain": [
              "np.int64(-100)"
            ]
          },
          "metadata": {},
          "execution_count": 15
        }
      ]
    },
    {
      "cell_type": "code",
      "execution_count": null,
      "metadata": {
        "id": "Z5TbinvHZ3Nx"
      },
      "outputs": [],
      "source": []
    },
    {
      "cell_type": "markdown",
      "metadata": {
        "id": "JBNLq0txZ3Nx"
      },
      "source": [
        "6. __Slice__ the array for the __last two cashflows__!"
      ]
    },
    {
      "cell_type": "code",
      "execution_count": 16,
      "metadata": {
        "id": "bCrZATOlZ3Nx",
        "colab": {
          "base_uri": "https://localhost:8080/"
        },
        "outputId": "c49fab27-785f-4079-a8cc-d6c459ed5d11"
      },
      "outputs": [
        {
          "output_type": "execute_result",
          "data": {
            "text/plain": [
              "array([1000,  800])"
            ]
          },
          "metadata": {},
          "execution_count": 16
        }
      ],
      "source": [
        "cf_array[-2:]"
      ]
    },
    {
      "cell_type": "markdown",
      "metadata": {
        "id": "6gErfnXXZ3Nx"
      },
      "source": [
        "7. __Slice__ the array for the cashflows in __t2, t3 and t4__."
      ]
    },
    {
      "cell_type": "code",
      "execution_count": 18,
      "metadata": {
        "id": "oUHbEWQwZ3Nx",
        "colab": {
          "base_uri": "https://localhost:8080/"
        },
        "outputId": "693cca1f-029f-43e9-b440-ab7cbae329c1"
      },
      "outputs": [
        {
          "output_type": "execute_result",
          "data": {
            "text/plain": [
              "array([-100,  200,  600])"
            ]
          },
          "metadata": {},
          "execution_count": 18
        }
      ],
      "source": [
        "cf_array[1:-2]"
      ]
    },
    {
      "cell_type": "code",
      "execution_count": null,
      "metadata": {
        "id": "nYbgUesQZ3Nx"
      },
      "outputs": [],
      "source": []
    },
    {
      "cell_type": "markdown",
      "metadata": {
        "id": "SCRVDLE_Z3Nx"
      },
      "source": [
        "The ABC Company evaluates to buy an additional machine that will increase future profits/cashflows by\n",
        "- 50 USD in t1,\n",
        "- 80 USD in t2,\n",
        "- 120 USD in t3,\n",
        "- 150 USD in t4,\n",
        "- 200 USD in t5. (each cf at period´s end)<br>"
      ]
    },
    {
      "cell_type": "markdown",
      "metadata": {
        "id": "FHNP2mM4Z3Ny"
      },
      "source": [
        "8. The machine costs 500 USD (Investment in to). Calculate the __Project´s NPV__ and evaluate whether ABC should pursue the project. <br> ABC´s required rate of return (Cost of Capital) is 7.5% p.a. Use __vectorized__ numpy code!"
      ]
    },
    {
      "cell_type": "code",
      "execution_count": 83,
      "metadata": {
        "id": "Mq6iVZNJZ3Ny",
        "colab": {
          "base_uri": "https://localhost:8080/"
        },
        "outputId": "4fb51b3e-f2ff-4fa0-dd8f-f1c1c321b6a5"
      },
      "outputs": [
        {
          "output_type": "execute_result",
          "data": {
            "text/plain": [
              "array([-500,   50,   80,  120,  150,  200])"
            ]
          },
          "metadata": {},
          "execution_count": 83
        }
      ],
      "source": [
        "# run the cell\n",
        "cf = np.array([-500, 50, 80, 120, 150, 200])\n",
        "cf"
      ]
    },
    {
      "cell_type": "code",
      "execution_count": 84,
      "metadata": {
        "id": "GhaTFXmjZ3Ny"
      },
      "outputs": [],
      "source": [
        "r = 0.075\n",
        "f = 1 + r"
      ]
    },
    {
      "cell_type": "code",
      "execution_count": 85,
      "metadata": {
        "id": "6jVFCw3cZ3Ny",
        "colab": {
          "base_uri": "https://localhost:8080/"
        },
        "outputId": "88daef12-21bf-4bc8-d5f4-d73af9d29479"
      },
      "outputs": [
        {
          "output_type": "execute_result",
          "data": {
            "text/plain": [
              "array([1, 2, 3, 4, 5])"
            ]
          },
          "metadata": {},
          "execution_count": 85
        }
      ],
      "source": [
        "period_time = np.arange(1,6)\n",
        "period_time"
      ]
    },
    {
      "cell_type": "code",
      "execution_count": 25,
      "metadata": {
        "id": "VmzwLA-SZ3Ny",
        "colab": {
          "base_uri": "https://localhost:8080/"
        },
        "outputId": "5e17c73c-f731-4e0d-bf4b-ee4bbf5b3231"
      },
      "outputs": [
        {
          "output_type": "execute_result",
          "data": {
            "text/plain": [
              "array([ 46.51162791,  69.22660898,  96.59526834, 112.32007947,\n",
              "       139.31172647])"
            ]
          },
          "metadata": {},
          "execution_count": 25
        }
      ],
      "source": [
        "pv_array = cf[1:]/f**period_time\n",
        "pv_array"
      ]
    },
    {
      "cell_type": "code",
      "source": [
        "pv_final = cf[0] + pv_array.sum()\n",
        "pv_final"
      ],
      "metadata": {
        "colab": {
          "base_uri": "https://localhost:8080/"
        },
        "id": "BlYbLju_eQJH",
        "outputId": "0fceafda-026b-4e0d-e373-e855f90ed11f"
      },
      "execution_count": 86,
      "outputs": [
        {
          "output_type": "execute_result",
          "data": {
            "text/plain": [
              "np.float64(-36.03468883756557)"
            ]
          },
          "metadata": {},
          "execution_count": 86
        }
      ]
    },
    {
      "cell_type": "markdown",
      "metadata": {
        "id": "x91-aAsJZ3N1"
      },
      "source": [
        "(result: -36.03468883756554 -> no!)"
      ]
    },
    {
      "cell_type": "code",
      "execution_count": null,
      "metadata": {
        "id": "2sA0G3n7Z3N1"
      },
      "outputs": [],
      "source": []
    },
    {
      "cell_type": "markdown",
      "metadata": {
        "id": "xKnBJ2e9Z3N1"
      },
      "source": [
        "9. __Slice__ the array cf (from question 8) for the positive inflows (__from t1__) and __save__ the slice in the __variable cf_pos__. <br> Make sure that once you __change the slice cf_pos__, the array __cf shall change as well__!"
      ]
    },
    {
      "cell_type": "code",
      "execution_count": 87,
      "metadata": {
        "id": "WhAYogLZZ3N1",
        "colab": {
          "base_uri": "https://localhost:8080/"
        },
        "outputId": "ed4f6698-7ac7-40a9-e649-613f796dd12f"
      },
      "outputs": [
        {
          "output_type": "execute_result",
          "data": {
            "text/plain": [
              "array([ 80, 120, 150, 200])"
            ]
          },
          "metadata": {},
          "execution_count": 87
        }
      ],
      "source": [
        "cf_pos = cf[cf_array > 0]\n",
        "cf_pos"
      ]
    },
    {
      "cell_type": "code",
      "execution_count": null,
      "metadata": {
        "id": "KTnuAgA6Z3N1"
      },
      "outputs": [],
      "source": []
    },
    {
      "cell_type": "markdown",
      "metadata": {
        "id": "iqxk4ss6Z3N2"
      },
      "source": [
        "10. Change the first cashflow (t1) of __cf_pos to 70__. Check whether __cf gets mutated as well__!"
      ]
    },
    {
      "cell_type": "code",
      "source": [
        "cf"
      ],
      "metadata": {
        "colab": {
          "base_uri": "https://localhost:8080/"
        },
        "id": "gwUk65sOkvaG",
        "outputId": "9d674402-2a34-4a77-fdef-45739b19bc14"
      },
      "execution_count": 88,
      "outputs": [
        {
          "output_type": "execute_result",
          "data": {
            "text/plain": [
              "array([-500,   50,   80,  120,  150,  200])"
            ]
          },
          "metadata": {},
          "execution_count": 88
        }
      ]
    },
    {
      "cell_type": "code",
      "execution_count": 89,
      "metadata": {
        "id": "XX-YctwnZ3N2"
      },
      "outputs": [],
      "source": [
        "cf_pos[0] = 70"
      ]
    },
    {
      "cell_type": "code",
      "execution_count": 90,
      "metadata": {
        "id": "OIO4Ip9xZ3N2",
        "colab": {
          "base_uri": "https://localhost:8080/"
        },
        "outputId": "2fe5b0b9-abf1-4d4b-f9ab-97c10567966a"
      },
      "outputs": [
        {
          "output_type": "execute_result",
          "data": {
            "text/plain": [
              "array([-500,   50,   80,  120,  150,  200])"
            ]
          },
          "metadata": {},
          "execution_count": 90
        }
      ],
      "source": [
        "cf"
      ]
    },
    {
      "cell_type": "markdown",
      "metadata": {
        "id": "EZSOeJBdZ3N2"
      },
      "source": [
        "11. __Restore cf__ and __redo Q9 and Q10__. This time make sure that cf and cf_pos are __independent objects__!"
      ]
    },
    {
      "cell_type": "code",
      "execution_count": 91,
      "metadata": {
        "id": "V9hUpY_CZ3N2",
        "colab": {
          "base_uri": "https://localhost:8080/"
        },
        "outputId": "8dbdd1ba-3ca3-4f46-e9cf-dab3f716092e"
      },
      "outputs": [
        {
          "output_type": "execute_result",
          "data": {
            "text/plain": [
              "array([ 50,  80, 120, 150, 200])"
            ]
          },
          "metadata": {},
          "execution_count": 91
        }
      ],
      "source": [
        "cf_pos = cf[1:].copy()\n",
        "cf_pos"
      ]
    },
    {
      "cell_type": "code",
      "source": [
        "cf_pos[0] = 70\n",
        "cf_pos"
      ],
      "metadata": {
        "colab": {
          "base_uri": "https://localhost:8080/"
        },
        "id": "O8OOcseXlIXE",
        "outputId": "ac3fbb79-1276-4c7f-f24e-070954a78d27"
      },
      "execution_count": 92,
      "outputs": [
        {
          "output_type": "execute_result",
          "data": {
            "text/plain": [
              "array([ 70,  80, 120, 150, 200])"
            ]
          },
          "metadata": {},
          "execution_count": 92
        }
      ]
    },
    {
      "cell_type": "code",
      "source": [
        "cf"
      ],
      "metadata": {
        "colab": {
          "base_uri": "https://localhost:8080/"
        },
        "id": "_SCGJCrvlMRU",
        "outputId": "94fa2e95-ec67-403d-ca08-c2ec284607d0"
      },
      "execution_count": 93,
      "outputs": [
        {
          "output_type": "execute_result",
          "data": {
            "text/plain": [
              "array([-500,   50,   80,  120,  150,  200])"
            ]
          },
          "metadata": {},
          "execution_count": 93
        }
      ]
    },
    {
      "cell_type": "markdown",
      "metadata": {
        "id": "eamvU2rIZ3N2"
      },
      "source": [
        "12. Calculate the __total sum__ over all cashflows of cf!"
      ]
    },
    {
      "cell_type": "code",
      "execution_count": 33,
      "metadata": {
        "id": "ZvG9Mjs_Z3N2",
        "colab": {
          "base_uri": "https://localhost:8080/"
        },
        "outputId": "40de08db-381c-4bd9-f08e-da4c1612e0a9"
      },
      "outputs": [
        {
          "output_type": "execute_result",
          "data": {
            "text/plain": [
              "np.int64(100)"
            ]
          },
          "metadata": {},
          "execution_count": 33
        }
      ],
      "source": [
        "# run the cell\n",
        "cf = np.array([-500, 50, 80, 120, 150, 200])\n",
        "cf.sum()"
      ]
    },
    {
      "cell_type": "markdown",
      "metadata": {
        "id": "8DMNzNKRZ3N3"
      },
      "source": [
        "13. Return the __highest Value__ of cf!"
      ]
    },
    {
      "cell_type": "code",
      "execution_count": 34,
      "metadata": {
        "id": "g9gji1-hZ3N3",
        "colab": {
          "base_uri": "https://localhost:8080/"
        },
        "outputId": "8dfd18a6-a01f-47eb-89ef-33002da8fdc0"
      },
      "outputs": [
        {
          "output_type": "execute_result",
          "data": {
            "text/plain": [
              "np.int64(200)"
            ]
          },
          "metadata": {},
          "execution_count": 34
        }
      ],
      "source": [
        "cf.max()"
      ]
    },
    {
      "cell_type": "markdown",
      "metadata": {
        "id": "-lh5Rda-Z3N3"
      },
      "source": [
        "14. Calculate the __cumulative cashflows__ for cf!"
      ]
    },
    {
      "cell_type": "code",
      "execution_count": 35,
      "metadata": {
        "id": "Zcyr34weZ3N3",
        "colab": {
          "base_uri": "https://localhost:8080/"
        },
        "outputId": "5453990e-4f3b-4083-e8a9-804c74205292"
      },
      "outputs": [
        {
          "output_type": "execute_result",
          "data": {
            "text/plain": [
              "array([-500, -450, -370, -250, -100,  100])"
            ]
          },
          "metadata": {},
          "execution_count": 35
        }
      ],
      "source": [
        "cf.cumsum()"
      ]
    },
    {
      "cell_type": "code",
      "execution_count": null,
      "metadata": {
        "id": "2YESoA7ZZ3N3"
      },
      "outputs": [],
      "source": []
    },
    {
      "cell_type": "markdown",
      "metadata": {
        "id": "EAPZpt23Z3N3"
      },
      "source": [
        "15. Assume the following list: [3, 10, 6, 45, 100]. Calculate the __square root__ for all elements in the list."
      ]
    },
    {
      "cell_type": "code",
      "execution_count": 38,
      "metadata": {
        "id": "hliIgmIMZ3N3",
        "colab": {
          "base_uri": "https://localhost:8080/"
        },
        "outputId": "fa754be0-7dc8-4584-fa1a-784ccfc32133"
      },
      "outputs": [
        {
          "output_type": "execute_result",
          "data": {
            "text/plain": [
              "array([ 1.73205081,  3.16227766,  2.44948974,  6.70820393, 10.        ])"
            ]
          },
          "metadata": {},
          "execution_count": 38
        }
      ],
      "source": [
        "np.sqrt([3, 10, 6, 45, 100])"
      ]
    },
    {
      "cell_type": "markdown",
      "metadata": {
        "id": "iz_N7P5kZ3N3"
      },
      "source": [
        "Assume the following stock prices:"
      ]
    },
    {
      "cell_type": "code",
      "execution_count": 39,
      "metadata": {
        "id": "oa53QdPBZ3N3",
        "colab": {
          "base_uri": "https://localhost:8080/"
        },
        "outputId": "24b9a234-533b-4cbf-ad99-9541d0d0b04c"
      },
      "outputs": [
        {
          "output_type": "execute_result",
          "data": {
            "text/plain": [
              "array([ 0.34, 43.56, 32.12, 67.43,  0.87,  9.87])"
            ]
          },
          "metadata": {},
          "execution_count": 39
        }
      ],
      "source": [
        "# run the cell!\n",
        "a = np.array([0.34, 43.56, 32.12, 67.43, 0.87, 9.87])\n",
        "a"
      ]
    },
    {
      "cell_type": "markdown",
      "metadata": {
        "id": "GvlwetwfZ3N3"
      },
      "source": [
        "16. __Filter__ a for all penny stocks! (price less than 1)"
      ]
    },
    {
      "cell_type": "code",
      "execution_count": 40,
      "metadata": {
        "id": "F6hvu5AMZ3N4",
        "colab": {
          "base_uri": "https://localhost:8080/"
        },
        "outputId": "9521a171-cabf-4164-c3d8-b24aeef9be6d"
      },
      "outputs": [
        {
          "output_type": "execute_result",
          "data": {
            "text/plain": [
              "array([0.34, 0.87])"
            ]
          },
          "metadata": {},
          "execution_count": 40
        }
      ],
      "source": [
        "a[a<1]"
      ]
    },
    {
      "cell_type": "markdown",
      "metadata": {
        "id": "EYCxylsNZ3N4"
      },
      "source": [
        "(result: array([0.34, 0.87]))"
      ]
    },
    {
      "cell_type": "code",
      "execution_count": null,
      "metadata": {
        "id": "1SK9SUxuZ3N4"
      },
      "outputs": [],
      "source": []
    },
    {
      "cell_type": "markdown",
      "metadata": {
        "id": "MMT-2h_sZ3N4"
      },
      "source": [
        "17. __Filter__ a for all stocks prices that are greater than 10 __and__ less than 50 (logical and)!"
      ]
    },
    {
      "cell_type": "code",
      "execution_count": 41,
      "metadata": {
        "id": "OIuCzCk1Z3N4",
        "colab": {
          "base_uri": "https://localhost:8080/"
        },
        "outputId": "d6cf40d3-ac57-49fc-9302-f43c28bd6ade"
      },
      "outputs": [
        {
          "output_type": "execute_result",
          "data": {
            "text/plain": [
              "array([43.56, 32.12])"
            ]
          },
          "metadata": {},
          "execution_count": 41
        }
      ],
      "source": [
        "a[(a>10)&(a<50)]"
      ]
    },
    {
      "cell_type": "markdown",
      "metadata": {
        "id": "8R3zBMk-Z3N4"
      },
      "source": [
        "18. __Filter__ a for stocks that are either penny stocks __or__ have prices greater than 60 (logical or)!"
      ]
    },
    {
      "cell_type": "code",
      "source": [
        "a[(a<1)| (a>60)]"
      ],
      "metadata": {
        "colab": {
          "base_uri": "https://localhost:8080/"
        },
        "id": "hGwKhs1zgMSl",
        "outputId": "d4aa6751-aa30-4eef-edb7-07249054a73b"
      },
      "execution_count": 42,
      "outputs": [
        {
          "output_type": "execute_result",
          "data": {
            "text/plain": [
              "array([ 0.34, 67.43,  0.87])"
            ]
          },
          "metadata": {},
          "execution_count": 42
        }
      ]
    },
    {
      "cell_type": "markdown",
      "metadata": {
        "id": "Cbu7v0QaZ3N4"
      },
      "source": [
        "(result: array([ 0.34, 67.43,  0.87]))"
      ]
    },
    {
      "cell_type": "markdown",
      "metadata": {
        "id": "XlsyV5yYZ3N4"
      },
      "source": [
        "19. Get the __reverse__ of Q18! (Neither penny stocks nor prices greater than 60)"
      ]
    },
    {
      "cell_type": "code",
      "execution_count": 43,
      "metadata": {
        "id": "_PwEKAxrZ3N4",
        "colab": {
          "base_uri": "https://localhost:8080/"
        },
        "outputId": "58084a67-8dc2-427c-c176-3d90c7cec35b"
      },
      "outputs": [
        {
          "output_type": "execute_result",
          "data": {
            "text/plain": [
              "array([43.56, 32.12,  9.87])"
            ]
          },
          "metadata": {},
          "execution_count": 43
        }
      ],
      "source": [
        "a[~((a<1)| (a>60))]"
      ]
    },
    {
      "cell_type": "markdown",
      "metadata": {
        "id": "vQDyaaXFZ3N5"
      },
      "source": [
        "(result: array([43.56, 32.12,  9.87]))"
      ]
    },
    {
      "cell_type": "code",
      "execution_count": null,
      "metadata": {
        "id": "1l4Z7gCCZ3N5"
      },
      "outputs": [],
      "source": []
    },
    {
      "cell_type": "markdown",
      "metadata": {
        "id": "XuNJyuTbZ3N5"
      },
      "source": [
        "20. Create a ___numpy array__ with interest rates from __0% till 10%__ (incl.) and a __step of 0.5%__."
      ]
    },
    {
      "cell_type": "code",
      "execution_count": 44,
      "metadata": {
        "id": "xgWioBSAZ3N5",
        "colab": {
          "base_uri": "https://localhost:8080/"
        },
        "outputId": "5c81d038-78cc-41d7-ae9d-f956a15eb7db"
      },
      "outputs": [
        {
          "output_type": "execute_result",
          "data": {
            "text/plain": [
              "array([0.000e+00, 5.000e-03, 1.000e-02, ..., 9.985e+00, 9.990e+00,\n",
              "       9.995e+00])"
            ]
          },
          "metadata": {},
          "execution_count": 44
        }
      ],
      "source": [
        "ir = np.arange(0,10,0.005) # interest rate\n",
        "ir"
      ]
    },
    {
      "cell_type": "code",
      "execution_count": null,
      "metadata": {
        "id": "JyNNmu7nZ3N5"
      },
      "outputs": [],
      "source": []
    },
    {
      "cell_type": "markdown",
      "metadata": {
        "id": "h33vk0ZVZ3N5"
      },
      "source": [
        "21. __Plot__ the f(x) = cos(x) in the interval [-10, 10]! (use 1,000 data points)"
      ]
    },
    {
      "cell_type": "code",
      "execution_count": 68,
      "metadata": {
        "id": "ID9ET_aUZ3N5"
      },
      "outputs": [],
      "source": [
        "x = np.linspace(-10,10, num =1000)\n",
        "y = np.sin(x)"
      ]
    },
    {
      "cell_type": "code",
      "source": [
        "np.argmin(y)"
      ],
      "metadata": {
        "colab": {
          "base_uri": "https://localhost:8080/"
        },
        "id": "FK83gxYKhZHn",
        "outputId": "61efc4b5-6f09-4cf2-cf3d-4c0de4ec749f"
      },
      "execution_count": 77,
      "outputs": [
        {
          "output_type": "execute_result",
          "data": {
            "text/plain": [
              "np.int64(421)"
            ]
          },
          "metadata": {},
          "execution_count": 77
        }
      ]
    },
    {
      "cell_type": "code",
      "source": [
        "np.argmin(x)"
      ],
      "metadata": {
        "colab": {
          "base_uri": "https://localhost:8080/"
        },
        "id": "hWUVork6jO5U",
        "outputId": "9a79fc08-b43e-43a8-b1d6-5094767c1cc6"
      },
      "execution_count": 78,
      "outputs": [
        {
          "output_type": "execute_result",
          "data": {
            "text/plain": [
              "np.int64(0)"
            ]
          },
          "metadata": {},
          "execution_count": 78
        }
      ]
    },
    {
      "cell_type": "code",
      "execution_count": 81,
      "metadata": {
        "id": "6OPajleMZ3N5",
        "colab": {
          "base_uri": "https://localhost:8080/",
          "height": 454
        },
        "outputId": "7a599af5-6c07-4e1d-d065-595438b39c7e"
      },
      "outputs": [
        {
          "output_type": "display_data",
          "data": {
            "text/plain": [
              "<Figure size 640x480 with 1 Axes>"
            ],
            "image/png": "[encoded data removed]"
          },
          "metadata": {}
        }
      ],
      "source": [
        "import matplotlib.pyplot as plt\n",
        "plt.title(\"f(x) = cos(x)\", fontsize = 15)\n",
        "plt.plot(x,y)\n",
        "plt.grid()\n",
        "plt.show()"
      ]
    },
    {
      "cell_type": "markdown",
      "metadata": {
        "id": "c8vjxe3LZ3N6"
      },
      "source": [
        "# Well Done!"
      ]
    },
    {
      "cell_type": "code",
      "execution_count": null,
      "metadata": {
        "id": "DYe7CAZEZ3N6"
      },
      "outputs": [],
      "source": []
    },
    {
      "cell_type": "markdown",
      "metadata": {
        "id": "Hceb0aUXZ3N6"
      },
      "source": [
        "# Solutions (Stop here if you want to code on your own!)"
      ]
    },
    {
      "cell_type": "markdown",
      "metadata": {
        "id": "xtcFvlGNZ3N6"
      },
      "source": [
        "# ++++++++++++++++++++++++++++++++++++++++++++++++++++++++++++++"
      ]
    },
    {
      "cell_type": "markdown",
      "metadata": {
        "id": "d67U1HhFZ3N6"
      },
      "source": [
        "1. Import Numpy!"
      ]
    },
    {
      "cell_type": "code",
      "execution_count": null,
      "metadata": {
        "id": "AVkxLahNZ3N6"
      },
      "outputs": [],
      "source": [
        "import numpy as np"
      ]
    },
    {
      "cell_type": "code",
      "execution_count": null,
      "metadata": {
        "id": "Vkl4wuarZ3N6"
      },
      "outputs": [],
      "source": []
    },
    {
      "cell_type": "markdown",
      "metadata": {
        "id": "Qsjm9-UQZ3N6"
      },
      "source": [
        "2. You have the following stock Prices in EUR Currency : [23.65, 43.21, 73.01, 87.32]<br>\n",
        "\n",
        "Create a __Numpy array__ and __convert all prices__ to USD Currency @ an fx rate of __1.2__ (1.2 USD per 1 EUR)."
      ]
    },
    {
      "cell_type": "code",
      "execution_count": null,
      "metadata": {
        "id": "WRO4Gf-XZ3N6"
      },
      "outputs": [],
      "source": [
        "a = np.array([23.65, 43.21, 73.01, 87.32])\n",
        "a"
      ]
    },
    {
      "cell_type": "code",
      "execution_count": null,
      "metadata": {
        "id": "4IszaMKKZ3N7"
      },
      "outputs": [],
      "source": [
        "a * 1.2"
      ]
    },
    {
      "cell_type": "markdown",
      "metadata": {
        "id": "cAm2696VZ3N7"
      },
      "source": [
        "(result: array([ 28.38 ,  51.852,  87.612, 104.784])"
      ]
    },
    {
      "cell_type": "code",
      "execution_count": null,
      "metadata": {
        "id": "w5jkCVZqZ3N7"
      },
      "outputs": [],
      "source": []
    },
    {
      "cell_type": "markdown",
      "metadata": {
        "id": "_B1RPyLXZ3N7"
      },
      "source": [
        "You have the\n",
        "- end-of-2017 stock prices for four companies: [33.65, 63.21, 53.01, 17.32]\n",
        "- end-of-2018 stock prices for the same companies: [36.54, 61.59, 60.31, 10.40]"
      ]
    },
    {
      "cell_type": "markdown",
      "metadata": {
        "id": "rhKC6I6LZ3N7"
      },
      "source": [
        "3. Calculate the __absolute__ price increase / decrease in 2018 __for all four companies__. Use __vectorized__ numpy code!"
      ]
    },
    {
      "cell_type": "code",
      "execution_count": null,
      "metadata": {
        "id": "Ot1XeVgzZ3N7"
      },
      "outputs": [],
      "source": [
        "p_2017 = np.array([33.65, 63.21, 53.01, 17.32])\n",
        "p_2018 = np.array([36.54, 61.59, 60.31, 10.40])"
      ]
    },
    {
      "cell_type": "code",
      "execution_count": null,
      "metadata": {
        "id": "qAr7WIW1Z3N7"
      },
      "outputs": [],
      "source": [
        "p_2018 - p_2017"
      ]
    },
    {
      "cell_type": "code",
      "execution_count": null,
      "metadata": {
        "id": "l_dIljacZ3N7"
      },
      "outputs": [],
      "source": []
    },
    {
      "cell_type": "markdown",
      "metadata": {
        "id": "Z9B__HGYZ3N7"
      },
      "source": [
        "4. Calculate the __price return__ in 2018 __for all four companies__. Use __vectorized__ numpy code!"
      ]
    },
    {
      "cell_type": "code",
      "execution_count": null,
      "metadata": {
        "id": "57a2ysWiZ3N8"
      },
      "outputs": [],
      "source": [
        "(p_2018 / p_2017) -1"
      ]
    },
    {
      "cell_type": "code",
      "execution_count": null,
      "metadata": {
        "id": "saZICK7tZ3N8"
      },
      "outputs": [],
      "source": []
    },
    {
      "cell_type": "markdown",
      "metadata": {
        "id": "YJiWx3nzZ3N8"
      },
      "source": [
        "You have the following list with cashflows (starting today at t0): [-500, -100, 200, 600, 1000, 800]"
      ]
    },
    {
      "cell_type": "code",
      "execution_count": null,
      "metadata": {
        "id": "MEJrDBU3Z3N8"
      },
      "outputs": [],
      "source": [
        "#run the cell!\n",
        "l  = [-500, -100, 200, 600, 1000, 800]"
      ]
    },
    {
      "cell_type": "markdown",
      "metadata": {
        "id": "Xmm_n5inZ3N8"
      },
      "source": [
        "5. Convert l into a __numpy array__ and __save__ the array in memory! __Select__ the __second cashflow__ at t1."
      ]
    },
    {
      "cell_type": "code",
      "execution_count": null,
      "metadata": {
        "id": "zwlJ-SyWZ3N8"
      },
      "outputs": [],
      "source": [
        "a = np.array(l)\n",
        "a"
      ]
    },
    {
      "cell_type": "code",
      "execution_count": null,
      "metadata": {
        "id": "M_MdJPlwZ3N8"
      },
      "outputs": [],
      "source": [
        "a[1]"
      ]
    },
    {
      "cell_type": "markdown",
      "metadata": {
        "id": "Tn5radi1Z3N8"
      },
      "source": [
        "6. __Slice__ the array for the __last two cashflows__!"
      ]
    },
    {
      "cell_type": "code",
      "execution_count": null,
      "metadata": {
        "id": "-AzACABgZ3N8"
      },
      "outputs": [],
      "source": [
        "a[-2:]"
      ]
    },
    {
      "cell_type": "markdown",
      "metadata": {
        "id": "grIgNvphZ3N9"
      },
      "source": [
        "7. __Slice__ the array for the cashflows in __t2, t3 and t4__."
      ]
    },
    {
      "cell_type": "code",
      "execution_count": null,
      "metadata": {
        "id": "P3tDl5S4Z3N9"
      },
      "outputs": [],
      "source": [
        "a[2:5]"
      ]
    },
    {
      "cell_type": "code",
      "execution_count": null,
      "metadata": {
        "id": "e8rVe-WUZ3N9"
      },
      "outputs": [],
      "source": []
    },
    {
      "cell_type": "markdown",
      "metadata": {
        "id": "Dszwcv0uZ3N9"
      },
      "source": [
        "The ABC Company evaluates to buy an additional machine that will increase future profits/cashflows by\n",
        "- 50 USD in t1,\n",
        "- 80 USD in t2,\n",
        "- 120 USD in t3,\n",
        "- 150 USD in t4,\n",
        "- 200 USD in t5. (each cf at period´s end)<br>"
      ]
    },
    {
      "cell_type": "code",
      "execution_count": null,
      "metadata": {
        "id": "HVB8OtTWZ3N9"
      },
      "outputs": [],
      "source": [
        "# run the cell\n",
        "cf = np.array([-500, 50, 80, 120, 150, 200])\n",
        "cf"
      ]
    },
    {
      "cell_type": "markdown",
      "metadata": {
        "id": "PAdLSLvPZ3N9"
      },
      "source": [
        "8. The machine costs 500 USD (Investment in to). Calculate the __Project´s NPV__ and evaluate whether ABC should pursue the project. <br> ABC´s required rate of return (Cost of Capital) is 7.5% p.a. Use __vectorized__ numpy code!"
      ]
    },
    {
      "cell_type": "code",
      "execution_count": null,
      "metadata": {
        "id": "zjbKggY8Z3N9"
      },
      "outputs": [],
      "source": [
        "r = 0.075\n",
        "f = 1 + r"
      ]
    },
    {
      "cell_type": "code",
      "execution_count": null,
      "metadata": {
        "id": "CQXmtKyGZ3N9"
      },
      "outputs": [],
      "source": [
        "n = np.array([0, 1, 2, 3, 4, 5])\n",
        "n"
      ]
    },
    {
      "cell_type": "code",
      "execution_count": null,
      "metadata": {
        "id": "Ut7Wyb3tZ3N9"
      },
      "outputs": [],
      "source": [
        "(cf / f**n).sum()"
      ]
    },
    {
      "cell_type": "markdown",
      "metadata": {
        "id": "Ml7ABCPMZ3N9"
      },
      "source": [
        "(result: -36.03468883756554 -> no!)"
      ]
    },
    {
      "cell_type": "code",
      "execution_count": null,
      "metadata": {
        "id": "JXaIMwPbZ3N9"
      },
      "outputs": [],
      "source": []
    },
    {
      "cell_type": "markdown",
      "metadata": {
        "id": "cRitRDf1Z3N9"
      },
      "source": [
        "9. __Slice__ the array cf (from question 8) for the positive inflows (__from t1__) and __save__ the slice in the __variable cf_pos__. <br> Make sure that once you __change the slice cf_pos__, the array __cf shall change as well__!"
      ]
    },
    {
      "cell_type": "code",
      "execution_count": null,
      "metadata": {
        "id": "8zFOeTXEZ3N-"
      },
      "outputs": [],
      "source": [
        "cf_pos = cf[1:]\n",
        "cf_pos"
      ]
    },
    {
      "cell_type": "code",
      "execution_count": null,
      "metadata": {
        "id": "aRxX6pShZ3N-"
      },
      "outputs": [],
      "source": []
    },
    {
      "cell_type": "markdown",
      "metadata": {
        "id": "QwUom1hCZ3N-"
      },
      "source": [
        "10. Change the first cashflow (t1) of __cf_pos to 70__. Check whether __cf gets mutated as well__!"
      ]
    },
    {
      "cell_type": "code",
      "execution_count": null,
      "metadata": {
        "id": "WKlwQm2XZ3N-"
      },
      "outputs": [],
      "source": [
        "cf_pos[0] = 70"
      ]
    },
    {
      "cell_type": "code",
      "execution_count": null,
      "metadata": {
        "id": "NY6V-xE2Z3N-"
      },
      "outputs": [],
      "source": [
        "cf"
      ]
    },
    {
      "cell_type": "code",
      "execution_count": null,
      "metadata": {
        "id": "FSLFiifGZ3N-"
      },
      "outputs": [],
      "source": []
    },
    {
      "cell_type": "markdown",
      "metadata": {
        "id": "OLu-KxZpZ3N-"
      },
      "source": [
        "11. __Restore cf__ and __redo Q9 and Q10__. This time make sure that cf and cf_pos are __independent objects__!"
      ]
    },
    {
      "cell_type": "code",
      "execution_count": null,
      "metadata": {
        "id": "r4pgNlauZ3N-"
      },
      "outputs": [],
      "source": [
        "cf = np.array([-500, 50, 80, 120, 150, 200])\n",
        "cf"
      ]
    },
    {
      "cell_type": "code",
      "execution_count": null,
      "metadata": {
        "id": "ch_89h6UZ3N-"
      },
      "outputs": [],
      "source": [
        "cf_pos = cf[1:].copy()\n",
        "cf_pos"
      ]
    },
    {
      "cell_type": "code",
      "execution_count": null,
      "metadata": {
        "id": "ZF0c8jUKZ3N-"
      },
      "outputs": [],
      "source": [
        "cf_pos[0] = 70\n",
        "cf_pos"
      ]
    },
    {
      "cell_type": "code",
      "execution_count": null,
      "metadata": {
        "id": "g8SjNvzZZ3N-"
      },
      "outputs": [],
      "source": [
        "cf"
      ]
    },
    {
      "cell_type": "code",
      "execution_count": null,
      "metadata": {
        "id": "VCeRHiBUZ3N-"
      },
      "outputs": [],
      "source": []
    },
    {
      "cell_type": "markdown",
      "metadata": {
        "id": "XF3ymuPIZ3N-"
      },
      "source": [
        "12. Calculate the __total sum__ over all cashflows of cf!"
      ]
    },
    {
      "cell_type": "code",
      "execution_count": null,
      "metadata": {
        "id": "mpzn5Y3iZ3N-"
      },
      "outputs": [],
      "source": [
        "# run the cell\n",
        "cf = np.array([-500, 50, 80, 120, 150, 200])\n",
        "cf"
      ]
    },
    {
      "cell_type": "code",
      "execution_count": null,
      "metadata": {
        "id": "MuPcrYTLZ3N-"
      },
      "outputs": [],
      "source": [
        "cf.sum()"
      ]
    },
    {
      "cell_type": "code",
      "execution_count": null,
      "metadata": {
        "id": "5TXZCHftZ3N_"
      },
      "outputs": [],
      "source": []
    },
    {
      "cell_type": "markdown",
      "metadata": {
        "id": "6uAbhWWTZ3N_"
      },
      "source": [
        "13. Return the __highest Value__ of cf!"
      ]
    },
    {
      "cell_type": "code",
      "execution_count": null,
      "metadata": {
        "id": "7Sb8Ky2cZ3N_"
      },
      "outputs": [],
      "source": [
        "cf.max()"
      ]
    },
    {
      "cell_type": "markdown",
      "metadata": {
        "id": "mRn9FAnGZ3N_"
      },
      "source": [
        "14. Calculate the __cumulative cashflows__ for cf!"
      ]
    },
    {
      "cell_type": "code",
      "execution_count": null,
      "metadata": {
        "id": "Ja0yfOz6Z3N_"
      },
      "outputs": [],
      "source": [
        "cf.cumsum()"
      ]
    },
    {
      "cell_type": "code",
      "execution_count": null,
      "metadata": {
        "id": "zM2bLT0DZ3N_"
      },
      "outputs": [],
      "source": []
    },
    {
      "cell_type": "markdown",
      "metadata": {
        "id": "losoPPKbZ3N_"
      },
      "source": [
        "15. Assume the following list: [3, 10, 6, 45, 100]. Calculate the __square root__ for all elements in the list."
      ]
    },
    {
      "cell_type": "code",
      "execution_count": null,
      "metadata": {
        "id": "HJdvx5O5Z3N_"
      },
      "outputs": [],
      "source": [
        "np.sqrt([3, 10, 6, 45, 100])"
      ]
    },
    {
      "cell_type": "code",
      "execution_count": null,
      "metadata": {
        "id": "nL0gei-SZ3N_"
      },
      "outputs": [],
      "source": []
    },
    {
      "cell_type": "markdown",
      "metadata": {
        "id": "aikvmCBgZ3N_"
      },
      "source": [
        "Assume the following stock prices:"
      ]
    },
    {
      "cell_type": "code",
      "execution_count": null,
      "metadata": {
        "id": "xFH3D9CBZ3N_"
      },
      "outputs": [],
      "source": [
        "# run the cell!\n",
        "a = np.array([0.34, 43.56, 32.12, 67.43, 0.87, 9.87])\n",
        "a"
      ]
    },
    {
      "cell_type": "markdown",
      "metadata": {
        "id": "Fc08gJ9uZ3N_"
      },
      "source": [
        "16. __Filter__ a for all penny stocks! (price less than 1)"
      ]
    },
    {
      "cell_type": "code",
      "execution_count": null,
      "metadata": {
        "id": "fbAavsEMZ3N_"
      },
      "outputs": [],
      "source": [
        "a[a < 1]"
      ]
    },
    {
      "cell_type": "markdown",
      "metadata": {
        "id": "gmxS5a4uZ3OA"
      },
      "source": [
        "(result: array([0.34, 0.87]))"
      ]
    },
    {
      "cell_type": "code",
      "execution_count": null,
      "metadata": {
        "id": "fGPDLE4tZ3OA"
      },
      "outputs": [],
      "source": []
    },
    {
      "cell_type": "markdown",
      "metadata": {
        "id": "qSH8wrw7Z3OA"
      },
      "source": [
        "17. __Filter__ a for all stocks prices that are greater than 10 __and__ less than 50 (logical and)!"
      ]
    },
    {
      "cell_type": "code",
      "execution_count": null,
      "metadata": {
        "id": "QEvvoFZTZ3OA"
      },
      "outputs": [],
      "source": [
        "a[(a > 10) & (a < 50)]"
      ]
    },
    {
      "cell_type": "code",
      "execution_count": null,
      "metadata": {
        "id": "8bx1yGf6Z3OA"
      },
      "outputs": [],
      "source": []
    },
    {
      "cell_type": "markdown",
      "metadata": {
        "id": "sK6hKG1ZZ3OA"
      },
      "source": [
        "18. __Filter__ a for stocks that are either penny stocks __or__ have prices greater than 60 (logical or)!"
      ]
    },
    {
      "cell_type": "code",
      "execution_count": null,
      "metadata": {
        "id": "ls6k1xucZ3OA"
      },
      "outputs": [],
      "source": [
        "a[(a < 1) | (a > 60)]"
      ]
    },
    {
      "cell_type": "markdown",
      "metadata": {
        "id": "OFUO2GhXZ3OA"
      },
      "source": [
        "(result: array([ 0.34, 67.43,  0.87]))"
      ]
    },
    {
      "cell_type": "code",
      "execution_count": null,
      "metadata": {
        "id": "EJNJ2kNkZ3OA"
      },
      "outputs": [],
      "source": []
    },
    {
      "cell_type": "markdown",
      "metadata": {
        "id": "TcCoCGQJZ3OA"
      },
      "source": [
        "19. Get the __reverse__ of Q18! (Neither penny stocks nor prices greater than 60)"
      ]
    },
    {
      "cell_type": "code",
      "execution_count": null,
      "metadata": {
        "id": "pVyLYpTQZ3OA"
      },
      "outputs": [],
      "source": [
        "a[~((a < 1) | (a > 60))]"
      ]
    },
    {
      "cell_type": "markdown",
      "metadata": {
        "id": "IM71cJtrZ3OA"
      },
      "source": [
        "(result: array([43.56, 32.12,  9.87]))"
      ]
    },
    {
      "cell_type": "code",
      "execution_count": null,
      "metadata": {
        "id": "4stUhC5sZ3OA"
      },
      "outputs": [],
      "source": []
    },
    {
      "cell_type": "markdown",
      "metadata": {
        "id": "utKcfoLrZ3OA"
      },
      "source": [
        "20. Create a ___numpy array__ with interest rates from __0% till 10%__ (incl.) and a __step of 0.5%__."
      ]
    },
    {
      "cell_type": "code",
      "execution_count": null,
      "metadata": {
        "id": "cyaYfj--Z3OB"
      },
      "outputs": [],
      "source": [
        "np.arange(0, 0.101, 0.005)"
      ]
    },
    {
      "cell_type": "code",
      "execution_count": null,
      "metadata": {
        "id": "i2uNBZ9AZ3OB"
      },
      "outputs": [],
      "source": []
    },
    {
      "cell_type": "markdown",
      "metadata": {
        "id": "Lp7b1IyRZ3OB"
      },
      "source": [
        "21. __Plot__ the f(x) = cos(x) in the interval [-10, 10]! (use 1,000 data points)"
      ]
    },
    {
      "cell_type": "code",
      "execution_count": null,
      "metadata": {
        "id": "sDXDdtcwZ3OB"
      },
      "outputs": [],
      "source": [
        "x = np.linspace(-10 , 10, 1000)"
      ]
    },
    {
      "cell_type": "code",
      "execution_count": null,
      "metadata": {
        "id": "LcgNv3lLZ3OB"
      },
      "outputs": [],
      "source": [
        "y = np.cos(x)"
      ]
    },
    {
      "cell_type": "code",
      "execution_count": null,
      "metadata": {
        "id": "XuumCjALZ3OB"
      },
      "outputs": [],
      "source": [
        "import matplotlib.pyplot as plt"
      ]
    },
    {
      "cell_type": "code",
      "execution_count": null,
      "metadata": {
        "scrolled": false,
        "id": "qFQ0Oz88Z3OB"
      },
      "outputs": [],
      "source": [
        "plt.figure(figsize = (12, 8))\n",
        "plt.plot(x, y)\n",
        "plt.title(\"f(x) = cos(x)\", fontsize = 20)\n",
        "plt.xlabel(\"x\", fontsize = 15)\n",
        "plt.ylabel(\"y\", fontsize = 15)\n",
        "plt.show()"
      ]
    },
    {
      "cell_type": "code",
      "execution_count": null,
      "metadata": {
        "id": "i7eWp-r4Z3OB"
      },
      "outputs": [],
      "source": []
    }
  ],
  "metadata": {
    "kernelspec": {
      "display_name": "Python 3 (ipykernel)",
      "language": "python",
      "name": "python3"
    },
    "language_info": {
      "codemirror_mode": {
        "name": "ipython",
        "version": 3
      },
      "file_extension": ".py",
      "mimetype": "text/x-python",
      "name": "python",
      "nbconvert_exporter": "python",
      "pygments_lexer": "ipython3",
      "version": "3.9.16"
    },
    "colab": {
      "provenance": []
    }
  },
  "nbformat": 4,
  "nbformat_minor": 0
}