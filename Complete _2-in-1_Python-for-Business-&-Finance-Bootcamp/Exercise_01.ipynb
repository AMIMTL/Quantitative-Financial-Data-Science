{
  "cells": [
    {
      "cell_type": "markdown",
      "metadata": {
        "id": "qIK0FTLvYQKL"
      },
      "source": [
        "# Coding Exercises (Part 1)"
      ]
    },
    {
      "cell_type": "markdown",
      "metadata": {
        "id": "dlOriZneYQKM"
      },
      "source": [
        "Now, you will have the opportunity to practice what you have learned. <br>\n",
        "__Follow the instructions__ and insert your code!"
      ]
    },
    {
      "cell_type": "markdown",
      "metadata": {
        "id": "4wZe3a4VYQKM"
      },
      "source": [
        "The correct answer is provided below your coding cell. There you can check whether your code is correct."
      ]
    },
    {
      "cell_type": "markdown",
      "metadata": {
        "id": "39mApUTKYQKN"
      },
      "source": [
        "If you need some help or if you want to check your code, you can also have a look at the __solutions__."
      ]
    },
    {
      "cell_type": "markdown",
      "metadata": {
        "id": "4pIcS3S4YQKN"
      },
      "source": [
        "### Have Fun!"
      ]
    },
    {
      "cell_type": "markdown",
      "metadata": {
        "id": "e5RCQISPYQKN"
      },
      "source": [
        "--------------------------------------------------------------------------------------------------------------"
      ]
    },
    {
      "cell_type": "markdown",
      "metadata": {
        "id": "Ca2Ko3jzYQKO"
      },
      "source": [
        "## Exercise 1: Using Python as a Calculator for TVM Problems"
      ]
    },
    {
      "cell_type": "markdown",
      "metadata": {
        "id": "ol94p_-6YQKO"
      },
      "source": [
        "Use __variables__ where appropriate! __Input__ values and your __final results__ shall be stored in variables."
      ]
    },
    {
      "cell_type": "markdown",
      "metadata": {
        "id": "7CIe_2qZYQKO"
      },
      "source": [
        "1. You save 2,000 USD for 7 years at an interst rate of 4% p.a.. Calculate the value of your account in 7 Years (__Future Value__)!"
      ]
    },
    {
      "cell_type": "code",
      "execution_count": 2,
      "metadata": {
        "id": "-i8QX9PtYQKP"
      },
      "outputs": [],
      "source": [
        "# Store Input values in variables\n",
        "pv = 2000 # present value\n",
        "n = 7 # number of years\n",
        "r = 0.04 # interest rate\n"
      ]
    },
    {
      "cell_type": "code",
      "execution_count": 3,
      "metadata": {
        "id": "yu68w-LMYQKP"
      },
      "outputs": [],
      "source": [
        "# Calculate and store the future value in a variable\n",
        "fv = pv * (1+r)**n # future value"
      ]
    },
    {
      "cell_type": "code",
      "execution_count": 6,
      "metadata": {
        "colab": {
          "base_uri": "https://localhost:8080/"
        },
        "id": "LKKbtwEOYQKP",
        "outputId": "b875575f-b163-4f67-f357-026340657952"
      },
      "outputs": [
        {
          "output_type": "stream",
          "name": "stdout",
          "text": [
            "2631.86\n"
          ]
        }
      ],
      "source": [
        "# print the future value\n",
        "print(round(fv,2))"
      ]
    },
    {
      "cell_type": "markdown",
      "metadata": {
        "id": "Tn2OevhlYQKQ"
      },
      "source": [
        "(result: 2631.86 USD)"
      ]
    },
    {
      "cell_type": "markdown",
      "metadata": {
        "id": "CcdHz9GjYQKQ"
      },
      "source": [
        "2. You consider to purchase a car in 4 years for 20,000 USD. How many USD do you have to save today (__Present Value__) in your savings account to have 20,000 USD in 4 years? Assume an interst rate of 3.5% p.a."
      ]
    },
    {
      "cell_type": "code",
      "execution_count": 7,
      "metadata": {
        "id": "Ciusn0fYYQKQ"
      },
      "outputs": [],
      "source": [
        "# Store Input values in variables\n",
        "fv = 20000 # car price\n",
        "n = 4 # number of years\n",
        "r = 0.035 # interest rate"
      ]
    },
    {
      "cell_type": "code",
      "execution_count": 8,
      "metadata": {
        "id": "p99c1JLbYQKQ"
      },
      "outputs": [],
      "source": [
        "# Calculate and store the present value in a variable\n",
        "pv = fv / ((1+r)**n)"
      ]
    },
    {
      "cell_type": "code",
      "execution_count": 9,
      "metadata": {
        "colab": {
          "base_uri": "https://localhost:8080/"
        },
        "id": "EQeLauFzYQKQ",
        "outputId": "5922fe36-07e7-4afd-e661-636067cdac46"
      },
      "outputs": [
        {
          "output_type": "stream",
          "name": "stdout",
          "text": [
            "17428.84\n"
          ]
        }
      ],
      "source": [
        "# print the present value\n",
        "print(round(pv,2))"
      ]
    },
    {
      "cell_type": "markdown",
      "metadata": {
        "id": "YO3hra3aYQKR"
      },
      "source": [
        "(result: 17,428.84 USD)"
      ]
    },
    {
      "cell_type": "markdown",
      "metadata": {
        "id": "pO-TFUmtYQKR"
      },
      "source": [
        "3. Bank B offers you to save 10,000 USD today, getting back 15,000 USD in 10 Years. Calculate the __per annum compound interest rate__. Bank A offers you an interest rate of 4.5% p.a.. Which offer should you accept?"
      ]
    },
    {
      "cell_type": "code",
      "execution_count": 11,
      "metadata": {
        "id": "ITLNk4Q9YQKR"
      },
      "outputs": [],
      "source": [
        "pv = 10000\n",
        "fv = 15000\n",
        "n  = 10\n",
        "r_A = 0.045 # interest rate of the bank A"
      ]
    },
    {
      "cell_type": "code",
      "source": [
        "r_B = (fv/pv)**(1/n) - 1"
      ],
      "metadata": {
        "id": "wcS1SweQZYVH"
      },
      "execution_count": 12,
      "outputs": []
    },
    {
      "cell_type": "code",
      "execution_count": 17,
      "metadata": {
        "colab": {
          "base_uri": "https://localhost:8080/"
        },
        "id": "syvvb-QAYQKR",
        "outputId": "94d76f8a-b7d3-461c-e5fa-b64516969aaf"
      },
      "outputs": [
        {
          "output_type": "stream",
          "name": "stdout",
          "text": [
            "4.14\n"
          ]
        }
      ],
      "source": [
        "print(round(r_B*100,2))"
      ]
    },
    {
      "cell_type": "markdown",
      "metadata": {
        "id": "ITjxXKqqYQKS"
      },
      "source": [
        "(result: 4.14%)"
      ]
    },
    {
      "cell_type": "markdown",
      "source": [
        "* Which offer should you accept?: Bank A offers the better interest rate."
      ],
      "metadata": {
        "id": "vgXNfIXFaCf3"
      }
    },
    {
      "cell_type": "markdown",
      "metadata": {
        "id": "BMyxJ48UYQKS"
      },
      "source": [
        "4. One year ago you invested 976 USD in the ABC stock. Recently you received a 40 USD Dividend Payment and the current value of your ABC stock investment is 1,053 USD. Calculate the __Price Return__!"
      ]
    },
    {
      "cell_type": "code",
      "execution_count": 45,
      "metadata": {
        "id": "Ck6XP3r3YQKS"
      },
      "outputs": [],
      "source": [
        "pv_old = 976\n",
        "dividend = 40\n",
        "pv_new = 1053\n",
        "ret = (pv_new/pv_old) - 1\n",
        "ret = round(ret*100,2)"
      ]
    },
    {
      "cell_type": "code",
      "source": [
        "print(ret)"
      ],
      "metadata": {
        "colab": {
          "base_uri": "https://localhost:8080/"
        },
        "id": "OmEiz_NMeATF",
        "outputId": "d869f78b-3ecc-4794-b959-2aa0b275f9c1"
      },
      "execution_count": 46,
      "outputs": [
        {
          "output_type": "stream",
          "name": "stdout",
          "text": [
            "7.89\n"
          ]
        }
      ]
    },
    {
      "cell_type": "markdown",
      "metadata": {
        "id": "Kl8o1QsjYQKS"
      },
      "source": [
        "(result: 7.89%)"
      ]
    },
    {
      "cell_type": "markdown",
      "metadata": {
        "id": "MfYzaiudYQKS"
      },
      "source": [
        "5. Calculate __Dividend Yield__ and __Total Return__ for your ABC stock investment!"
      ]
    },
    {
      "cell_type": "code",
      "execution_count": 41,
      "metadata": {
        "id": "6q0OTrpeYQKS"
      },
      "outputs": [],
      "source": [
        "dividend_yield = dividend / pv_old\n",
        "dividend_yield = round(dividend_yield*100 ,2)"
      ]
    },
    {
      "cell_type": "code",
      "execution_count": 42,
      "metadata": {
        "colab": {
          "base_uri": "https://localhost:8080/"
        },
        "id": "CBj_u0AZYQKS",
        "outputId": "4b06ab3b-c573-4254-e1e1-85a10bac1c5d"
      },
      "outputs": [
        {
          "output_type": "stream",
          "name": "stdout",
          "text": [
            "4.1\n"
          ]
        }
      ],
      "source": [
        "print(dividend_yield)"
      ]
    },
    {
      "cell_type": "code",
      "execution_count": 43,
      "metadata": {
        "id": "xsz1GNhIYQKS"
      },
      "outputs": [],
      "source": [
        "total_ret = ((pv_new + dividend) / pv_old) - 1\n",
        "total_ret =  round(total_ret*100,2)"
      ]
    },
    {
      "cell_type": "code",
      "execution_count": 44,
      "metadata": {
        "colab": {
          "base_uri": "https://localhost:8080/"
        },
        "id": "rYkbV5xSYQKS",
        "outputId": "fd2da8df-1f8a-4157-eb8c-13ac41b899b2"
      },
      "outputs": [
        {
          "output_type": "stream",
          "name": "stdout",
          "text": [
            "11.99\n"
          ]
        }
      ],
      "source": [
        "print(total_ret)"
      ]
    },
    {
      "cell_type": "markdown",
      "metadata": {
        "id": "7kTG7SgVYQKT"
      },
      "source": [
        "(results: 4.10% and 11.99%)"
      ]
    },
    {
      "cell_type": "markdown",
      "metadata": {
        "id": "onF-aY7HYQKW"
      },
      "source": [
        "6. Print Price Return, Dividend Yield and Total Return in one single line, __separated by commas__!"
      ]
    },
    {
      "cell_type": "code",
      "execution_count": 48,
      "metadata": {
        "colab": {
          "base_uri": "https://localhost:8080/"
        },
        "id": "6ijUHI4lYQKW",
        "outputId": "b090940c-fb4e-4fe3-cd23-6990273422a4"
      },
      "outputs": [
        {
          "output_type": "stream",
          "name": "stdout",
          "text": [
            "Price Return: 7.89, Dividend Yield : 4.1 , Total Return: 11.99\n"
          ]
        }
      ],
      "source": [
        "print(f\"Price Return: {ret}, Dividend Yield : {dividend_yield} , Total Return: {total_ret}\")"
      ]
    },
    {
      "cell_type": "markdown",
      "metadata": {
        "id": "uUIZ0DyGYQKW"
      },
      "source": [
        "# Well Done!"
      ]
    },
    {
      "cell_type": "markdown",
      "metadata": {
        "id": "8twzuJPyYQKW"
      },
      "source": [
        "---------------------------------------------------------------------------------------------------------------------"
      ]
    },
    {
      "cell_type": "markdown",
      "metadata": {
        "id": "wDC3Ag9gYQKW"
      },
      "source": [
        "# Solutions (Stop here if you want to code on your own!)"
      ]
    },
    {
      "cell_type": "markdown",
      "metadata": {
        "id": "Ql1_9Mf4YQKW"
      },
      "source": [
        "# ++++++++++++++++++++++++++++++++++++++++++++++++++++++++++++++"
      ]
    },
    {
      "cell_type": "markdown",
      "metadata": {
        "id": "BZZT3V4-YQKW"
      },
      "source": [
        "1. You save 2,000 USD for 7 years at an interst rate of 4% p.a.. Calculate the value of your account in 7 Years (__Future Value__)!"
      ]
    },
    {
      "cell_type": "code",
      "execution_count": null,
      "metadata": {
        "id": "edBhrjSFYQKW"
      },
      "outputs": [],
      "source": [
        "# Store Input values in variables\n",
        "pv = 2000\n",
        "n = 7\n",
        "r = 0.04"
      ]
    },
    {
      "cell_type": "code",
      "execution_count": null,
      "metadata": {
        "id": "VM1ji2ohYQKX"
      },
      "outputs": [],
      "source": [
        "# Calculate and store the future value in a variable\n",
        "fv = pv * (1 + r)**n"
      ]
    },
    {
      "cell_type": "code",
      "execution_count": null,
      "metadata": {
        "id": "qaemrHiJYQKX"
      },
      "outputs": [],
      "source": [
        "# print the future value\n",
        "fv"
      ]
    },
    {
      "cell_type": "markdown",
      "metadata": {
        "id": "eEux_Q0FYQKX"
      },
      "source": [
        "(result: 2631.86 USD)"
      ]
    },
    {
      "cell_type": "code",
      "execution_count": null,
      "metadata": {
        "id": "GoIc0PnaYQKX"
      },
      "outputs": [],
      "source": []
    },
    {
      "cell_type": "markdown",
      "metadata": {
        "id": "z15EtxzzYQKX"
      },
      "source": [
        "2. You consider to purchase a car in 4 years for 20,000 USD. How many USD do you have to save today (__Present Value__) in your savings account to have 20,000 USD in 4 years? Assume an interst rate of 3.5% p.a."
      ]
    },
    {
      "cell_type": "code",
      "execution_count": null,
      "metadata": {
        "id": "8Xk-sQETYQKX"
      },
      "outputs": [],
      "source": [
        "# Store Input values in variables\n",
        "fv = 20000\n",
        "n = 4\n",
        "r = 0.035"
      ]
    },
    {
      "cell_type": "code",
      "execution_count": null,
      "metadata": {
        "id": "S1LGr1s6YQKX"
      },
      "outputs": [],
      "source": [
        "# Calculate and store the present value in a variable\n",
        "pv = fv / (1 + r)**n"
      ]
    },
    {
      "cell_type": "code",
      "execution_count": null,
      "metadata": {
        "id": "SItjfj9IYQKX"
      },
      "outputs": [],
      "source": [
        "# print the present value\n",
        "pv"
      ]
    },
    {
      "cell_type": "markdown",
      "metadata": {
        "id": "9zt0VR35YQKX"
      },
      "source": [
        "(result: 17,428.84 USD)"
      ]
    },
    {
      "cell_type": "code",
      "execution_count": null,
      "metadata": {
        "id": "ssVkVoAeYQKX"
      },
      "outputs": [],
      "source": []
    },
    {
      "cell_type": "markdown",
      "metadata": {
        "id": "f68_5bzBYQKX"
      },
      "source": [
        "3. Bank B offers you to save 10,000 USD today, getting back 15,000 USD in 10 Years. Calculate the __per annum compound interest rate__. Bank A offers you an interest rate of 4.5% p.a.. Which offer should you accept?"
      ]
    },
    {
      "cell_type": "code",
      "execution_count": null,
      "metadata": {
        "id": "PRJVU43uYQKX"
      },
      "outputs": [],
      "source": [
        "# Store Input values in variables\n",
        "pv = 10000\n",
        "fv = 15000\n",
        "n = 10"
      ]
    },
    {
      "cell_type": "code",
      "execution_count": null,
      "metadata": {
        "id": "UnJfsHvUYQKX"
      },
      "outputs": [],
      "source": [
        "r = (fv / pv)**(1/n) - 1"
      ]
    },
    {
      "cell_type": "code",
      "execution_count": null,
      "metadata": {
        "id": "rrh91qRTYQKX"
      },
      "outputs": [],
      "source": [
        "r"
      ]
    },
    {
      "cell_type": "markdown",
      "metadata": {
        "id": "8A8JDXNFYQKY"
      },
      "source": [
        "(result: 4.14%)"
      ]
    },
    {
      "cell_type": "code",
      "execution_count": null,
      "metadata": {
        "id": "oVrF1ew-YQKY"
      },
      "outputs": [],
      "source": []
    },
    {
      "cell_type": "markdown",
      "metadata": {
        "id": "AblManLbYQKY"
      },
      "source": [
        "4. One year ago you invested 976 USD in the ABC stock. Recently you received a 40 USD Dividend Payment and the current value of your ABC stock investment is 1,053 USD. Calculate the __Price Return__!"
      ]
    },
    {
      "cell_type": "code",
      "execution_count": null,
      "metadata": {
        "id": "drifOR5fYQKY"
      },
      "outputs": [],
      "source": [
        "p0 = 976\n",
        "p1 = 1053\n",
        "div = 40"
      ]
    },
    {
      "cell_type": "code",
      "execution_count": null,
      "metadata": {
        "id": "P4A01fenYQKY"
      },
      "outputs": [],
      "source": [
        "p_ret = p1 / p0 - 1"
      ]
    },
    {
      "cell_type": "code",
      "execution_count": null,
      "metadata": {
        "id": "vj0s2j-JYQKY"
      },
      "outputs": [],
      "source": [
        "p_ret"
      ]
    },
    {
      "cell_type": "markdown",
      "metadata": {
        "id": "kyBIbbAaYQKY"
      },
      "source": [
        "(result: 7.89%)"
      ]
    },
    {
      "cell_type": "code",
      "execution_count": null,
      "metadata": {
        "id": "-royGNYnYQKY"
      },
      "outputs": [],
      "source": []
    },
    {
      "cell_type": "markdown",
      "metadata": {
        "id": "PKEziiBwYQKY"
      },
      "source": [
        "5. Calculate __Dividend Yield__ and __Total Return__ for your ABC stock investment!"
      ]
    },
    {
      "cell_type": "code",
      "execution_count": null,
      "metadata": {
        "id": "c5H0O-sZYQKY"
      },
      "outputs": [],
      "source": [
        "div_y = div / p0"
      ]
    },
    {
      "cell_type": "code",
      "execution_count": null,
      "metadata": {
        "id": "gFCosPEvYQKY"
      },
      "outputs": [],
      "source": [
        "div_y"
      ]
    },
    {
      "cell_type": "code",
      "execution_count": null,
      "metadata": {
        "id": "aCVkML9iYQKY"
      },
      "outputs": [],
      "source": [
        "total_ret = p_ret + div_y"
      ]
    },
    {
      "cell_type": "code",
      "execution_count": null,
      "metadata": {
        "id": "U9zOHI7MYQKZ"
      },
      "outputs": [],
      "source": [
        "total_ret"
      ]
    },
    {
      "cell_type": "markdown",
      "metadata": {
        "id": "lY4Gg2NqYQKZ"
      },
      "source": [
        "(results: 4.10% and 11.99%)"
      ]
    },
    {
      "cell_type": "code",
      "execution_count": null,
      "metadata": {
        "id": "2ASqeCpSYQKZ"
      },
      "outputs": [],
      "source": []
    },
    {
      "cell_type": "markdown",
      "metadata": {
        "id": "zOZAIipkYQKZ"
      },
      "source": [
        "6. Print Price Return, Dividend Yield and Total Return in one single line, __separated by commas__!"
      ]
    },
    {
      "cell_type": "code",
      "execution_count": null,
      "metadata": {
        "id": "YM4-4JVCYQKZ"
      },
      "outputs": [],
      "source": [
        "print(p_ret, div_y, total_ret, sep = \", \")"
      ]
    },
    {
      "cell_type": "code",
      "execution_count": null,
      "metadata": {
        "id": "lriX7EC2YQKZ"
      },
      "outputs": [],
      "source": []
    }
  ],
  "metadata": {
    "kernelspec": {
      "display_name": "Python 3 (ipykernel)",
      "language": "python",
      "name": "python3"
    },
    "language_info": {
      "codemirror_mode": {
        "name": "ipython",
        "version": 3
      },
      "file_extension": ".py",
      "mimetype": "text/x-python",
      "name": "python",
      "nbconvert_exporter": "python",
      "pygments_lexer": "ipython3",
      "version": "3.9.16"
    },
    "colab": {
      "provenance": []
    }
  },
  "nbformat": 4,
  "nbformat_minor": 0
}